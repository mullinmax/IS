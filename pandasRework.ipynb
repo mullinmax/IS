{
 "cells": [
  {
   "cell_type": "code",
   "execution_count": 45,
   "metadata": {},
   "outputs": [],
   "source": [
    "import csv\n",
    "import matplotlib.pyplot as plt\n",
    "from sklearn import tree\n",
    "from sklearn.model_selection import train_test_split\n",
    "from graphviz import Source # for drawing decision tree\n",
    "from IPython.display import SVG # for drawing decision tree\n",
    "import numpy as np\n",
    "import pandas\n",
    "import random\n",
    "import math"
   ]
  },
  {
   "cell_type": "code",
   "execution_count": 46,
   "metadata": {},
   "outputs": [
    {
     "name": "stdout",
     "output_type": "stream",
     "text": [
      "(145, 3520)\n"
     ]
    }
   ],
   "source": [
    "rawData = pandas.read_csv(\"data/doubleStrandRaw.csv\", delimiter=',', skipinitialspace=True, warn_bad_lines=True, index_col=0) \n",
    "rawData = rawData.astype('bool') # convert to bools\n",
    "foreground = rawData.loc[rawData['class'] == True].drop('class', axis = 1) # split into forground and backgorund\n",
    "background = rawData.loc[rawData['class'] == False].drop('class', axis = 1)\n",
    "# print(foreground.loc[foreground[rawData.columns[2]] == True])\n",
    "print(rawData.shape)"
   ]
  },
  {
   "cell_type": "code",
   "execution_count": 61,
   "metadata": {},
   "outputs": [],
   "source": [
    "\n",
    "posCounts = foreground.sum(axis=0) #produces list of sum of occurances in foregorund for each column\n",
    "negCounts = background.sum(axis=0)\n",
    "# plt.scatter(list(map(lambda x: x + random.random() -.5, posCounts)), list(map(lambda x: x + random.random() -.5, negCounts)))\n",
    "plt.scatter(posCounts, negCounts, c=(24/255,81/255,112/255,.3))\n",
    "# plt.scatter(list(map(lambda x: x + random.random() -.5, posCounts)), list(map(lambda x: x + random.random() -.5, negCounts)), alpha=0.3)\n",
    "# plt.title(\"Pollen vs. Non-pollen Motif Occurances\")\n",
    "plt.xlabel(\"Number occurrences in 13 pollen specific genes\")\n",
    "plt.ylabel(\"Number occurrences in non-pollen genes\")\n",
    "plt.plot([10.5, 10.5], [0, 30], 'k-', c=(196/255,13/255,65/255))\n",
    "plt.plot([10.5, 13], [30.5, 30.5], 'k-', c=(196/255,13/255,65/255))\n",
    "# plt.show()\n",
    "plt.savefig(\"test.png\", dpi=1000)"
   ]
  },
  {
   "cell_type": "code",
   "execution_count": 4,
   "metadata": {},
   "outputs": [
    {
     "ename": "KeyboardInterrupt",
     "evalue": "",
     "output_type": "error",
     "traceback": [
      "\u001b[1;31m---------------------------------------------------------------------------\u001b[0m",
      "\u001b[1;31mKeyboardInterrupt\u001b[0m                         Traceback (most recent call last)",
      "\u001b[1;32m<ipython-input-4-a28ba026ccd2>\u001b[0m in \u001b[0;36m<module>\u001b[1;34m()\u001b[0m\n\u001b[0;32m     14\u001b[0m         \u001b[1;32mif\u001b[0m \u001b[0mrow\u001b[0m\u001b[1;33m[\u001b[0m\u001b[0mfirst\u001b[0m\u001b[1;33m]\u001b[0m\u001b[1;33m:\u001b[0m\u001b[1;33m\u001b[0m\u001b[0m\n\u001b[0;32m     15\u001b[0m             \u001b[1;32mfor\u001b[0m \u001b[0msecond\u001b[0m \u001b[1;32min\u001b[0m \u001b[0mrange\u001b[0m\u001b[1;33m(\u001b[0m\u001b[0mfirst\u001b[0m\u001b[1;33m+\u001b[0m\u001b[1;36m1\u001b[0m\u001b[1;33m,\u001b[0m\u001b[0mn\u001b[0m\u001b[1;33m)\u001b[0m\u001b[1;33m:\u001b[0m\u001b[1;33m\u001b[0m\u001b[0m\n\u001b[1;32m---> 16\u001b[1;33m                 \u001b[1;32mif\u001b[0m \u001b[0mrow\u001b[0m\u001b[1;33m[\u001b[0m\u001b[0msecond\u001b[0m\u001b[1;33m]\u001b[0m\u001b[1;33m:\u001b[0m\u001b[1;33m\u001b[0m\u001b[0m\n\u001b[0m\u001b[0;32m     17\u001b[0m                     \u001b[0mnegCoOccur\u001b[0m\u001b[1;33m[\u001b[0m\u001b[0mfirst\u001b[0m\u001b[1;33m*\u001b[0m\u001b[0mn\u001b[0m\u001b[1;33m+\u001b[0m\u001b[0msecond\u001b[0m\u001b[1;33m]\u001b[0m \u001b[1;33m+=\u001b[0m \u001b[1;36m1\u001b[0m\u001b[1;33m\u001b[0m\u001b[0m\n",
      "\u001b[1;31mKeyboardInterrupt\u001b[0m: "
     ]
    }
   ],
   "source": [
    "n = len(foreground.columns)\n",
    "posCoOccur = [0 for x in range(n*n)]\n",
    "negCoOccur = [0 for x in range(n*n)]\n",
    "\n",
    "for row in foreground.as_matrix():\n",
    "    for first in range(n):\n",
    "        if row[first]:\n",
    "            for second in range(first+1,n):\n",
    "                if row[second]:\n",
    "                    posCoOccur[first*n+second] += 1                      \n",
    "\n",
    "for row in background.as_matrix():\n",
    "    for first in range(n):\n",
    "        if row[first]:\n",
    "            for second in range(first+1,n):\n",
    "                if row[second]:\n",
    "                    negCoOccur[first*n+second] += 1"
   ]
  },
  {
   "cell_type": "code",
   "execution_count": null,
   "metadata": {},
   "outputs": [],
   "source": [
    "# plt.scatter(list(map(lambda x: x + random.random() -.5, posCounts)), list(map(lambda x: x + random.random() -.5, negCounts)))\n",
    "# plt.scatter(posCoOccur, negCoOccur, alpha=0.02)\n",
    "# plt.scatter(list(map(lambda x: x + random.random() -.5, posCoOccur)), list(map(lambda x: x + random.random() -.5, negCoOccur)), alpha=0.01)\n",
    "plt.title(\"Pollen vs. Non-pollen Motif Pair Occurances\")\n",
    "plt.xlabel(\"Number of Pollen co-occurrences\")\n",
    "plt.ylabel(\"Number of Non-Pollen co-occurrences\")\n",
    "plt.show()"
   ]
  },
  {
   "cell_type": "code",
   "execution_count": 28,
   "metadata": {},
   "outputs": [
    {
     "name": "stdout",
     "output_type": "stream",
     "text": [
      "gimme_101_Improbizer_GTAGCTACGTTGGCTAA  and  DME_GAAGCCGAGGCAGAGC\n"
     ]
    }
   ],
   "source": [
    "print(rawData.columns[math.floor(9999/len(rawData.columns))], \" and \", rawData.columns[9999%len(rawData.columns)]) # code for printing pairs of co-ocurring motifs"
   ]
  },
  {
   "cell_type": "code",
   "execution_count": 39,
   "metadata": {},
   "outputs": [
    {
     "name": "stdout",
     "output_type": "stream",
     "text": [
      "13\n"
     ]
    }
   ],
   "source": [
    "never = []\n",
    "neverMotifNames = []\n",
    "mixed = []\n",
    "mixedMotifNames = []\n",
    "right = []\n",
    "rightMotifNames = []\n",
    "bottom = []\n",
    "bottomMotifNames = []\n",
    "ratio = []\n",
    "ratioMotifNames = []\n",
    "lasso = []\n",
    "lassoMotifNames = []\n",
    "welchList = []\n",
    "welchListMotifNames = []\n",
    "\n",
    "posCounts = foreground.sum(axis=0) #produces list of sum of occurances in foregorund for each column\n",
    "# print(max(posCounts))\n",
    "negCounts = background.sum(axis=0)\n",
    "for col in range(len(posCounts)):\n",
    "    if negCounts[col] == 0 and posCounts[col] == 0:\n",
    "        neverMotifNames.append(rawData.columns[col])\n",
    "    else:\n",
    "        if posCounts[col] >= max(posCounts) - 1:\n",
    "            rightMotifNames.append(rawData.columns[col])\n",
    "        if negCounts[col] < 3:\n",
    "            bottomMotifNames.append(rawData.columns[col])\n",
    "        if posCounts[col] > 0 and negCounts[col] > 0:\n",
    "            mixedMotifNames.append(rawData.columns[col])\n",
    "        if (posCounts[col] / max(posCounts)) / (1+negCounts[col]/max(negCounts)) > .5:\n",
    "            ratioMotifNames.append(rawData.columns[col])\n",
    "#         if posCounts[col] >= 9 and negCounts[col] <= 20:\n",
    "        if posCounts[col] >= 11 and negCounts[col] <= 30:\n",
    "            welchListMotifNames.append(rawData.columns[col])\n",
    "print(len(welchListMotifNames))"
   ]
  },
  {
   "cell_type": "code",
   "execution_count": 40,
   "metadata": {},
   "outputs": [],
   "source": [
    "# def metrics(motifNames):\n",
    "#     tp = 0\n",
    "#     fn = 0\n",
    "#     tn = 0\n",
    "#     fp = 0\n",
    "#     for motif in motifNames:\n",
    "#         for\n",
    "#         tp += foreground.loc[foreground[motif] == True].shape[0]\n",
    "#         fn += foreground.loc[foreground[motif] == False].shape[0]\n",
    "#         tn += background.loc[background[motif] == False].shape[0]\n",
    "#         fp += background.loc[background[motif] == True].shape[0]\n",
    "#     return tp,fn,tn,fp"
   ]
  },
  {
   "cell_type": "code",
   "execution_count": 41,
   "metadata": {},
   "outputs": [
    {
     "name": "stdout",
     "output_type": "stream",
     "text": [
      "true positives|false positives|true negatives|false negatives|accuracy|Sensitivity|Specificity|True Positive + False Negative|motif name\n",
      "11 | 16 | 116 | 2 | 0.8758620689655172 | 0.8461538461538461 | 0.8787878787878788 | 13 | gimme_143_MEME_4_w12\n",
      "12 | 18 | 114 | 1 | 0.8689655172413793 | 0.9230769230769231 | 0.8636363636363636 | 13 | gimme_104_Improbizer_GTGCAACGGAGAGT\n",
      "12 | 21 | 111 | 1 | 0.8482758620689655 | 0.9230769230769231 | 0.8409090909090909 | 13 | gimme_146_MEME_7_w12\n",
      "11 | 27 | 105 | 2 | 0.8 | 0.8461538461538461 | 0.7954545454545454 | 13 | gimme_16_BioProspector_w12_1\n",
      "11 | 17 | 115 | 2 | 0.8689655172413793 | 0.8461538461538461 | 0.8712121212121212 | 13 | gimme_13_BioProspector_w10_3\n",
      "11 | 26 | 106 | 2 | 0.8068965517241379 | 0.8461538461538461 | 0.803030303030303 | 13 | gimme_92_MDmodule_Motif.12.3\n",
      "12 | 15 | 117 | 1 | 0.8896551724137931 | 0.9230769230769231 | 0.8863636363636364 | 13 | gimme_132_MEME_3_w10\n",
      "13 | 24 | 108 | 0 | 0.8344827586206897 | 1.0 | 0.8181818181818182 | 13 | gimme_105_Improbizer_AACACACGTTTATTAGATGTTT\n",
      "12 | 20 | 112 | 1 | 0.8551724137931035 | 0.9230769230769231 | 0.8484848484848485 | 13 | gimme_102_Improbizer_GCGTTATACCCGAGGATCAG\n",
      "11 | 25 | 107 | 2 | 0.8137931034482758 | 0.8461538461538461 | 0.8106060606060606 | 13 | DME_GADGAYKAS\n",
      "11 | 27 | 105 | 2 | 0.8 | 0.8461538461538461 | 0.7954545454545454 | 13 | DME_GRHTGDTGA\n",
      "11 | 29 | 103 | 2 | 0.7862068965517242 | 0.8461538461538461 | 0.7803030303030303 | 13 | DME_MARKGDSRGA\n",
      "11 | 27 | 105 | 2 | 0.8 | 0.8461538461538461 | 0.7954545454545454 | 13 | DME_GATYTKRHG\n",
      "AVERAGE / SUM METRICS:\n",
      "true positives|false positives|true negatives|false negatives|accuracy|Sensitivity|Specificity|True Positive + False Negative\n",
      "149 | 292 | 1424 | 20 | 0.8344827586206897 | 0.8816568047337278 | 0.8298368298368298 | 169\n"
     ]
    }
   ],
   "source": [
    "# calculate and list metrics for all motifs with foreground >= 9 & background <= 20\n",
    "print('true positives|false positives|true negatives|false negatives|accuracy|Sensitivity|Specificity|True Positive + False Negative|motif name')\n",
    "\n",
    "selected = welchListMotifNames\n",
    "netTP = 0\n",
    "netFP = 0\n",
    "netTN = 0\n",
    "netFN = 0\n",
    "for motif in selected:\n",
    "    tp = foreground.loc[foreground[motif] == True].shape[0]\n",
    "    fn = foreground.loc[foreground[motif] == False].shape[0]\n",
    "    tn = background.loc[background[motif] == False].shape[0]\n",
    "    fp = background.loc[background[motif] == True].shape[0]\n",
    "    netTP += tp\n",
    "    netFP += fp\n",
    "    netTN += tn\n",
    "    netFN += fn\n",
    "    if(tn+fp == 0):\n",
    "        print(tp,\"|\", fp,\"|\", tn,\"|\", fn,\"|\",float(tp+tn)/float(tp+tn+fp+fn),\"|\",float(tp)/float(tp+fn),\"|\", \" NA \",\"|\", tp+fn,\"|\",motif)\n",
    "    else:\n",
    "        print(tp,\"|\", fp,\"|\", tn,\"|\", fn,\"|\",float(tp+tn)/float(tp+tn+fp+fn),\"|\",float(tp)/float(tp+fn),\"|\",float(tn)/float(tn+fp),\"|\", tp+fn,\"|\",motif)\n",
    "\n",
    "print(\"AVERAGE / SUM METRICS:\")\n",
    "print('true positives|false positives|true negatives|false negatives|accuracy|Sensitivity|Specificity|True Positive + False Negative')\n",
    "if(netTN+netFP == 0):\n",
    "    print(netTP,\"|\", netFP,\"|\", netTN,\"|\", netFN,\"|\",float(netTP+netTN)/float(netTP+netTN+netFP+netFN),\"|\",float(netTP)/float(netTP+netFN),\"|\",\" NA \",\"|\", netTP+netFN)\n",
    "else:\n",
    "    print(netTP,\"|\", netFP,\"|\", netTN,\"|\", netFN,\"|\",float(netTP+netTN)/float(netTP+netTN+netFP+netFN),\"|\",float(netTP)/float(netTP+netFN),\"|\",float(netTN)/float(netTN+netFP),\"|\", netTP+netFN)"
   ]
  },
  {
   "cell_type": "code",
   "execution_count": 32,
   "metadata": {},
   "outputs": [
    {
     "ename": "KeyboardInterrupt",
     "evalue": "",
     "output_type": "error",
     "traceback": [
      "\u001b[1;31m---------------------------------------------------------------------------\u001b[0m",
      "\u001b[1;31mKeyboardInterrupt\u001b[0m                         Traceback (most recent call last)",
      "\u001b[1;32m<ipython-input-32-63e6ef0868ef>\u001b[0m in \u001b[0;36m<module>\u001b[1;34m()\u001b[0m\n\u001b[0;32m     21\u001b[0m             \u001b[1;32mfor\u001b[0m \u001b[0mmotif\u001b[0m \u001b[1;32min\u001b[0m \u001b[0mmotifList\u001b[0m\u001b[1;33m:\u001b[0m\u001b[1;33m\u001b[0m\u001b[0m\n\u001b[0;32m     22\u001b[0m                 \u001b[0mtp\u001b[0m \u001b[1;33m+=\u001b[0m \u001b[0mtruePositives\u001b[0m\u001b[1;33m[\u001b[0m\u001b[0mmotif\u001b[0m\u001b[1;33m]\u001b[0m\u001b[1;33m\u001b[0m\u001b[0m\n\u001b[1;32m---> 23\u001b[1;33m                 \u001b[0mfn\u001b[0m \u001b[1;33m+=\u001b[0m \u001b[0mlen\u001b[0m\u001b[1;33m(\u001b[0m\u001b[0mforeground\u001b[0m\u001b[1;33m)\u001b[0m \u001b[1;33m-\u001b[0m \u001b[0mtruePositives\u001b[0m\u001b[1;33m[\u001b[0m\u001b[0mmotif\u001b[0m\u001b[1;33m]\u001b[0m \u001b[1;31m# number of foreground - tp\u001b[0m\u001b[1;33m\u001b[0m\u001b[0m\n\u001b[0m\u001b[0;32m     24\u001b[0m                 \u001b[0mfp\u001b[0m \u001b[1;33m+=\u001b[0m \u001b[0mfalsePositives\u001b[0m\u001b[1;33m[\u001b[0m\u001b[0mmotif\u001b[0m\u001b[1;33m]\u001b[0m\u001b[1;33m\u001b[0m\u001b[0m\n\u001b[0;32m     25\u001b[0m                 \u001b[0mtn\u001b[0m \u001b[1;33m+=\u001b[0m \u001b[0mlen\u001b[0m\u001b[1;33m(\u001b[0m\u001b[0mbackground\u001b[0m\u001b[1;33m)\u001b[0m \u001b[1;33m-\u001b[0m \u001b[0mfalsePositives\u001b[0m\u001b[1;33m[\u001b[0m\u001b[0mmotif\u001b[0m\u001b[1;33m]\u001b[0m \u001b[1;31m# number of background - fp\u001b[0m\u001b[1;33m\u001b[0m\u001b[0m\n",
      "\u001b[1;32m~\\Anaconda3\\lib\\site-packages\\pandas\\core\\series.py\u001b[0m in \u001b[0;36m__getitem__\u001b[1;34m(self, key)\u001b[0m\n\u001b[0;32m    599\u001b[0m         \u001b[0mkey\u001b[0m \u001b[1;33m=\u001b[0m \u001b[0mcom\u001b[0m\u001b[1;33m.\u001b[0m\u001b[0m_apply_if_callable\u001b[0m\u001b[1;33m(\u001b[0m\u001b[0mkey\u001b[0m\u001b[1;33m,\u001b[0m \u001b[0mself\u001b[0m\u001b[1;33m)\u001b[0m\u001b[1;33m\u001b[0m\u001b[0m\n\u001b[0;32m    600\u001b[0m         \u001b[1;32mtry\u001b[0m\u001b[1;33m:\u001b[0m\u001b[1;33m\u001b[0m\u001b[0m\n\u001b[1;32m--> 601\u001b[1;33m             \u001b[0mresult\u001b[0m \u001b[1;33m=\u001b[0m \u001b[0mself\u001b[0m\u001b[1;33m.\u001b[0m\u001b[0mindex\u001b[0m\u001b[1;33m.\u001b[0m\u001b[0mget_value\u001b[0m\u001b[1;33m(\u001b[0m\u001b[0mself\u001b[0m\u001b[1;33m,\u001b[0m \u001b[0mkey\u001b[0m\u001b[1;33m)\u001b[0m\u001b[1;33m\u001b[0m\u001b[0m\n\u001b[0m\u001b[0;32m    602\u001b[0m \u001b[1;33m\u001b[0m\u001b[0m\n\u001b[0;32m    603\u001b[0m             \u001b[1;32mif\u001b[0m \u001b[1;32mnot\u001b[0m \u001b[0mis_scalar\u001b[0m\u001b[1;33m(\u001b[0m\u001b[0mresult\u001b[0m\u001b[1;33m)\u001b[0m\u001b[1;33m:\u001b[0m\u001b[1;33m\u001b[0m\u001b[0m\n",
      "\u001b[1;31mKeyboardInterrupt\u001b[0m: "
     ]
    }
   ],
   "source": [
    "truePositives = foreground.sum(axis=0)\n",
    "falsePositives = background.sum(axis=0)\n",
    "\n",
    "accuracyHeatData = []\n",
    "sensitivityHeatData = []\n",
    "specificityHeatData = []\n",
    "for maxBackground in range(max(negCounts)):\n",
    "    accuracyHeatDataRow = []\n",
    "    sensitivityHeatDataRow = []\n",
    "    specificityHeatDataRow = []\n",
    "    for minForeground in range(max(posCounts)):\n",
    "        motifList = []\n",
    "        for motif in range(len(posCounts)):\n",
    "            if minForeground <= posCounts[motif] and maxBackground >= negCounts[motif]:\n",
    "                motifList.append(rawData.columns[motif]) #add name of motif\n",
    "        if len(motifList) > 0:\n",
    "            tp = 0\n",
    "            tn = 0\n",
    "            fp = 0\n",
    "            fn = 0\n",
    "            for motif in motifList:\n",
    "                tp += truePositives[motif]\n",
    "                fn += len(foreground) - truePositives[motif] # number of foreground - tp\n",
    "                fp += falsePositives[motif]\n",
    "                tn += len(background) - falsePositives[motif] # number of background - fp\n",
    "            accuracyHeatDataRow.append(float(tp+tn)/float(tp+tn+fp+fn))\n",
    "            sensitivityHeatDataRow.append(float(tp)/float(tp+fn))\n",
    "            specificityHeatDataRow.append(float(tn)/float(tn+fp))\n",
    "        else:\n",
    "            accuracyHeatDataRow.append(0)\n",
    "            sensitivityHeatDataRow.append(0)\n",
    "            specificityHeatDataRow.append(0)\n",
    "    accuracyHeatData.append(accuracyHeatDataRow)\n",
    "    sensitivityHeatData.append(sensitivityHeatDataRow)\n",
    "    specificityHeatData.append(specificityHeatDataRow)"
   ]
  },
  {
   "cell_type": "code",
   "execution_count": null,
   "metadata": {},
   "outputs": [],
   "source": [
    "img = plt.imshow(np.array(accuracyHeatData),interpolation='nearest')\n",
    "\n",
    "plt.colorbar() # make a color bar\n",
    "plt.axis('auto')\n",
    "plt.gca().invert_yaxis()\n",
    "plt.title(\"Accuracy of majority vote with constraints x and y\")\n",
    "plt.xlabel(\"Minimum number of Positive occurrences\")\n",
    "plt.ylabel(\"Maximum number of negative occurrences\")\n",
    "plt.show()"
   ]
  },
  {
   "cell_type": "code",
   "execution_count": null,
   "metadata": {},
   "outputs": [],
   "source": [
    "img = plt.imshow(np.array(sensitivityHeatData),interpolation='nearest')\n",
    "\n",
    "plt.colorbar() # make a color bar\n",
    "plt.axis('auto')\n",
    "plt.gca().invert_yaxis()\n",
    "plt.title(\"Sensitivity of majority vote with constraints x and y\")\n",
    "plt.xlabel(\"Minimum number of Positive occurrences\")\n",
    "plt.ylabel(\"Maximum number of negative occurrences\")\n",
    "plt.show()"
   ]
  },
  {
   "cell_type": "code",
   "execution_count": null,
   "metadata": {},
   "outputs": [],
   "source": [
    "img = plt.imshow(np.array(specificityHeatData),interpolation='nearest')\n",
    "\n",
    "plt.colorbar() # make a color bar\n",
    "plt.axis('auto')\n",
    "plt.gca().invert_yaxis()\n",
    "plt.title(\"Specificity of majority vote with constraints x and y\")\n",
    "plt.xlabel(\"Minimum number of Positive occurrences\")\n",
    "plt.ylabel(\"Maximum number of negative occurrences\")\n",
    "plt.show()"
   ]
  },
  {
   "cell_type": "code",
   "execution_count": null,
   "metadata": {},
   "outputs": [],
   "source": [
    "motifPool = welchListMotifNames\n",
    "n = len(welchListMotifNames) # minus one for class column\n",
    "maxAccuracy = 0\n",
    "maxAccuracyLeft = \"\"\n",
    "maxAccuracyRight = \"\"\n",
    "maxSensitivity = 0\n",
    "maxSensitivityLeft = \"\"\n",
    "maxSensitivityRight = \"\"\n",
    "for indexLeft in range(n):\n",
    "    print(indexLeft)\n",
    "    left = motifPool[math.floor(indexLeft/n)]\n",
    "    CTLT = foreground.loc[foreground[left] == True]\n",
    "    CTLF = foreground.loc[foreground[left] == False]\n",
    "    CFLT = background.loc[background[left] == True]\n",
    "    CFLF = background.loc[background[left] == False]\n",
    "    for right in motifPool[indexLeft+1:]:\n",
    "        CTLTRT = CTLT.loc[CTLT[right] == True].shape[0]\n",
    "#         CTLTRF = CTLT.loc[CTLT[right] == False].shape[0]\n",
    "#         CTLFRT = CTLF.loc[CTLF[right] == True].shape[0]\n",
    "#         CTLFRF = CTLF.loc[CTLF[right] == False].shape[0]\n",
    "        \n",
    "#         CFLTRT = CFLT.loc[CFLT[right] == True].shape[0]\n",
    "#         CFLTRF = CFLT.loc[CFLT[right] == False].shape[0]\n",
    "#         CFLFRT = CFLF.loc[CFLF[right] == True].shape[0]\n",
    "        CFLFRF = CFLF.loc[CFLF[right] == False].shape[0]\n",
    "        if maxAccuracy < float(CTLTRT+CFLFRF)/float(len(rawData)):\n",
    "            maxAccuracy = float(CTLTRT+CFLFRF)/float(len(rawData))\n",
    "            maxAccuracyLeft = left\n",
    "            maxAccuracyRight = right\n",
    "            print(\"Max Accuracy:\", left, right, maxAccuracy)\n",
    "        if maxSensitivity < float(CTLTRT)/float()\n",
    "        sensitivityHeatDataRow.append(float(tp)/float(tp+fn))"
   ]
  },
  {
   "cell_type": "code",
   "execution_count": null,
   "metadata": {},
   "outputs": [],
   "source": [
    "import math\n",
    "print(rawData.columns[math.floor(35200/len(rawData.columns))], \" and \", rawData.columns[35200%len(rawData.columns)]) # code for printing pairs of co-ocurring motifs"
   ]
  },
  {
   "cell_type": "code",
   "execution_count": null,
   "metadata": {},
   "outputs": [],
   "source": []
  },
  {
   "cell_type": "code",
   "execution_count": null,
   "metadata": {},
   "outputs": [],
   "source": []
  },
  {
   "cell_type": "code",
   "execution_count": null,
   "metadata": {},
   "outputs": [],
   "source": []
  },
  {
   "cell_type": "code",
   "execution_count": null,
   "metadata": {},
   "outputs": [],
   "source": []
  }
 ],
 "metadata": {
  "kernelspec": {
   "display_name": "Python 3",
   "language": "python",
   "name": "python3"
  },
  "language_info": {
   "codemirror_mode": {
    "name": "ipython",
    "version": 3
   },
   "file_extension": ".py",
   "mimetype": "text/x-python",
   "name": "python",
   "nbconvert_exporter": "python",
   "pygments_lexer": "ipython3",
   "version": "3.6.3"
  }
 },
 "nbformat": 4,
 "nbformat_minor": 2
}
