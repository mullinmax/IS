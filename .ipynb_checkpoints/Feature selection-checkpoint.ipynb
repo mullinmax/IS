{
 "cells": [
  {
   "cell_type": "markdown",
   "metadata": {},
   "source": [
    "# Feature selection\n",
    "#### importing libraries and reading in data"
   ]
  },
  {
   "cell_type": "code",
   "execution_count": 1,
   "metadata": {},
   "outputs": [
    {
     "name": "stdout",
     "output_type": "stream",
     "text": [
      "number of motif names: 3519\n",
      "number of recorded classes: 145\n",
      "Data Dimentions: 145 rows, 3519 cols\n"
     ]
    }
   ],
   "source": [
    "import csv\n",
    "import matplotlib.pyplot as plt\n",
    "from sklearn import tree\n",
    "from sklearn.model_selection import train_test_split\n",
    "from graphviz import Source # for drawing decision tree\n",
    "from IPython.display import SVG # for drawing decision tree\n",
    "\n",
    "motifNames = []\n",
    "classes = []\n",
    "rawData = []\n",
    "with open('data/raw.csv') as csvfile: \n",
    "    readCSV = csv.reader(csvfile, delimiter=',')\n",
    "    motifNames = next(readCSV)[1:-1] #remove left most column and 'class'\n",
    "    for row in readCSV:\n",
    "        rawData.append(row[1:-1])\n",
    "        classes.append(row[-1])\n",
    "print (\"number of motif names:\", len(motifNames)) \n",
    "print (\"number of recorded classes:\", len(classes))  \n",
    "print (\"Data Dimentions:\", len(rawData),\"rows,\", len(rawData[0]), \"cols\")\n"
   ]
  },
  {
   "cell_type": "markdown",
   "metadata": {},
   "source": [
    "#### Transpose data and convert to true / false for simpler code"
   ]
  },
  {
   "cell_type": "code",
   "execution_count": 2,
   "metadata": {},
   "outputs": [
    {
     "name": "stdout",
     "output_type": "stream",
     "text": [
      "Transposed Dimentions: 3519 rows, 145 cols\n"
     ]
    }
   ],
   "source": [
    "# convert data to T/F\n",
    "for row in range(len(rawData)):\n",
    "        for cell in range(len(rawData[row])):\n",
    "            if(rawData[row][cell] == '0.0'):\n",
    "                rawData[row][cell] = False\n",
    "            elif(rawData[row][cell] == '1.0'):\n",
    "                rawData[row][cell] = True\n",
    "                \n",
    "# convert data to T/F\n",
    "for cell in range(len(classes)):\n",
    "    if(classes[cell] == '0.0'):\n",
    "        classes[cell] = False\n",
    "    elif(classes[cell] == '1.0'):\n",
    "        classes[cell] = True\n",
    "\n",
    "    \n",
    "# transpose data\n",
    "tData = [list(i) for i in zip(*rawData)]\n",
    "print (\"Transposed Dimentions:\", len(tData),\"rows,\", len(tData[0]), \"cols\")  "
   ]
  },
  {
   "cell_type": "markdown",
   "metadata": {},
   "source": [
    "#### Count how many times each motif occurs in the positive and negative classes"
   ]
  },
  {
   "cell_type": "code",
   "execution_count": 3,
   "metadata": {},
   "outputs": [
    {
     "name": "stdout",
     "output_type": "stream",
     "text": [
      "first: 5 pos, 2 neg\n",
      "last: 2 pos, 3 neg\n",
      "max pos:  13\n",
      "max neg:  106\n"
     ]
    }
   ],
   "source": [
    "posCounts = []\n",
    "negCounts = []\n",
    "\n",
    "for row in range(len(tData)):\n",
    "    posCount = 0\n",
    "    negCount = 0\n",
    "    for col in range(len(tData[row])):\n",
    "        if(tData[row][col] == True):\n",
    "            if(classes[col] == True):\n",
    "                posCount += 1 \n",
    "            elif(classes[col] == False):\n",
    "                negCount += 1\n",
    "    posCounts.append(posCount)\n",
    "    negCounts.append(negCount)\n",
    "    \n",
    "print(\"first:\", posCounts[0], \"pos,\", negCounts[0], \"neg\")\n",
    "print(\"last:\", posCounts[-1], \"pos,\", negCounts[-1], \"neg\")\n",
    "print(\"max pos: \", max(posCounts))\n",
    "print(\"max neg: \", max(negCounts))"
   ]
  },
  {
   "cell_type": "markdown",
   "metadata": {},
   "source": [
    "#### create plots based on counts"
   ]
  },
  {
   "cell_type": "code",
   "execution_count": 4,
   "metadata": {
    "scrolled": true
   },
   "outputs": [
    {
     "data": {
      "image/png": "[encoded data removed]",
      "text/plain": [
       "<matplotlib.figure.Figure at 0x17d856a5860>"
      ]
     },
     "metadata": {},
     "output_type": "display_data"
    }
   ],
   "source": [
    "plt.scatter(posCounts, negCounts)\n",
    "plt.xlabel(\"Number of positive occurrences\")\n",
    "plt.ylabel(\"Number of negative occurrences\")\n",
    "plt.show()\n"
   ]
  },
  {
   "cell_type": "markdown",
   "metadata": {},
   "source": [
    "#### split data by if it has a positive and if it has a negative occurance"
   ]
  },
  {
   "cell_type": "code",
   "execution_count": 5,
   "metadata": {},
   "outputs": [
    {
     "name": "stdout",
     "output_type": "stream",
     "text": [
      "71\n"
     ]
    }
   ],
   "source": [
    "never = []\n",
    "neverMotifNames = []\n",
    "mixed = []\n",
    "mixedMotifNames = []\n",
    "right = []\n",
    "rightMotifNames = []\n",
    "bottom = []\n",
    "bottomMotifNames = []\n",
    "ratio = []\n",
    "ratioMotifNames = []\n",
    "for row in range(len(posCounts)):\n",
    "    if negCounts[row] == 0 and posCounts[row] == 0:\n",
    "        never.append(tData[row])\n",
    "        neverMotifNames.append(motifNames[row])\n",
    "    else:\n",
    "        if posCounts[row] >= max(posCounts) - 1:\n",
    "            right.append(tData[row])\n",
    "            rightMotifNames.append(motifNames[row])\n",
    "        if negCounts[row] < 3:\n",
    "            bottom.append(tData[row])\n",
    "            bottomMotifNames.append(motifNames[row])\n",
    "        if posCounts[row] > 0 and negCounts[row] > 0:\n",
    "            mixed.append(tData[row])\n",
    "            mixedMotifNames.append(motifNames[row])\n",
    "        if (posCounts[row] / max(posCounts)) / (1+negCounts[row]/max(negCounts)) > .5:\n",
    "            ratio.append(tData[row])\n",
    "            ratioMotifNames.append(motifNames[row])\n",
    "            \n",
    "print(len(ratio))"
   ]
  },
  {
   "cell_type": "markdown",
   "metadata": {},
   "source": [
    "#### create a decision tree and train it on mixedData"
   ]
  },
  {
   "cell_type": "code",
   "execution_count": 6,
   "metadata": {
    "collapsed": true
   },
   "outputs": [],
   "source": [
    "selected = right\n",
    "selectedNames = rightMotifNames\n",
    "\n",
    "selectedTree = tree.DecisionTreeClassifier()\n",
    "selectedData = [list(i) for i in zip(*selected)]\n",
    "x_train, x_test, y_train, y_test = train_test_split(selectedData, classes, test_size=0.33)\n",
    "selectedTree = selectedTree.fit(x_train, y_train)"
   ]
  },
  {
   "cell_type": "markdown",
   "metadata": {},
   "source": [
    "#### display the tree we've genorated"
   ]
  },
  {
   "cell_type": "code",
   "execution_count": 7,
   "metadata": {},
   "outputs": [
    {
     "data": {
      "image/svg+xml": [
       "<svg height=\"373pt\" viewBox=\"0.00 0.00 546.00 373.00\" width=\"546pt\" xmlns=\"http://www.w3.org/2000/svg\" xmlns:xlink=\"http://www.w3.org/1999/xlink\">\n",
       "<g class=\"graph\" id=\"graph0\" transform=\"scale(1 1) rotate(0) translate(4 369)\">\n",
       "<title>Tree</title>\n",
       "<polygon fill=\"white\" points=\"-4,4 -4,-369 542,-369 542,4 -4,4\" stroke=\"none\"/>\n",
       "<!-- 0 -->\n",
       "<g class=\"node\" id=\"node1\"><title>0</title>\n",
       "<polygon fill=\"none\" points=\"395,-365 0,-365 0,-297 395,-297 395,-365\" stroke=\"black\"/>\n",
       "<text font-family=\"Times New Roman,serif\" font-size=\"14.00\" text-anchor=\"middle\" x=\"197.5\" y=\"-349.8\">gimme_102_Improbizer_GCGTTATACCCGAGGATCAG &lt;= 0.5</text>\n",
       "<text font-family=\"Times New Roman,serif\" font-size=\"14.00\" text-anchor=\"middle\" x=\"197.5\" y=\"-334.8\">gini = 0.151</text>\n",
       "<text font-family=\"Times New Roman,serif\" font-size=\"14.00\" text-anchor=\"middle\" x=\"197.5\" y=\"-319.8\">samples = 97</text>\n",
       "<text font-family=\"Times New Roman,serif\" font-size=\"14.00\" text-anchor=\"middle\" x=\"197.5\" y=\"-304.8\">value = [89, 8]</text>\n",
       "</g>\n",
       "<!-- 1 -->\n",
       "<g class=\"node\" id=\"node2\"><title>1</title>\n",
       "<polygon fill=\"none\" points=\"110.5,-253.5 12.5,-253.5 12.5,-200.5 110.5,-200.5 110.5,-253.5\" stroke=\"black\"/>\n",
       "<text font-family=\"Times New Roman,serif\" font-size=\"14.00\" text-anchor=\"middle\" x=\"61.5\" y=\"-238.3\">gini = 0.0</text>\n",
       "<text font-family=\"Times New Roman,serif\" font-size=\"14.00\" text-anchor=\"middle\" x=\"61.5\" y=\"-223.3\">samples = 83</text>\n",
       "<text font-family=\"Times New Roman,serif\" font-size=\"14.00\" text-anchor=\"middle\" x=\"61.5\" y=\"-208.3\">value = [83, 0]</text>\n",
       "</g>\n",
       "<!-- 0&#45;&gt;1 -->\n",
       "<g class=\"edge\" id=\"edge1\"><title>0-&gt;1</title>\n",
       "<path d=\"M153.345,-296.884C137.361,-284.896 119.365,-271.399 103.566,-259.549\" fill=\"none\" stroke=\"black\"/>\n",
       "<polygon fill=\"black\" points=\"105.627,-256.72 95.5266,-253.52 101.427,-262.32 105.627,-256.72\" stroke=\"black\"/>\n",
       "<text font-family=\"Times New Roman,serif\" font-size=\"14.00\" text-anchor=\"middle\" x=\"99.0621\" y=\"-274.569\">True</text>\n",
       "</g>\n",
       "<!-- 2 -->\n",
       "<g class=\"node\" id=\"node3\"><title>2</title>\n",
       "<polygon fill=\"none\" points=\"538,-261 129,-261 129,-193 538,-193 538,-261\" stroke=\"black\"/>\n",
       "<text font-family=\"Times New Roman,serif\" font-size=\"14.00\" text-anchor=\"middle\" x=\"333.5\" y=\"-245.8\">gimme_105_Improbizer_AACACACGTTTATTAGATGTTT &lt;= 0.5</text>\n",
       "<text font-family=\"Times New Roman,serif\" font-size=\"14.00\" text-anchor=\"middle\" x=\"333.5\" y=\"-230.8\">gini = 0.49</text>\n",
       "<text font-family=\"Times New Roman,serif\" font-size=\"14.00\" text-anchor=\"middle\" x=\"333.5\" y=\"-215.8\">samples = 14</text>\n",
       "<text font-family=\"Times New Roman,serif\" font-size=\"14.00\" text-anchor=\"middle\" x=\"333.5\" y=\"-200.8\">value = [6, 8]</text>\n",
       "</g>\n",
       "<!-- 0&#45;&gt;2 -->\n",
       "<g class=\"edge\" id=\"edge2\"><title>0-&gt;2</title>\n",
       "<path d=\"M241.655,-296.884C254.126,-287.531 267.821,-277.259 280.742,-267.568\" fill=\"none\" stroke=\"black\"/>\n",
       "<polygon fill=\"black\" points=\"283.201,-270.099 289.101,-261.299 279.001,-264.499 283.201,-270.099\" stroke=\"black\"/>\n",
       "<text font-family=\"Times New Roman,serif\" font-size=\"14.00\" text-anchor=\"middle\" x=\"285.565\" y=\"-282.348\">False</text>\n",
       "</g>\n",
       "<!-- 3 -->\n",
       "<g class=\"node\" id=\"node4\"><title>3</title>\n",
       "<polygon fill=\"none\" points=\"385.5,-157 47.5,-157 47.5,-89 385.5,-89 385.5,-157\" stroke=\"black\"/>\n",
       "<text font-family=\"Times New Roman,serif\" font-size=\"14.00\" text-anchor=\"middle\" x=\"216.5\" y=\"-141.8\">gimme_104_Improbizer_GTGCAACGGAGAGT &lt;= 0.5</text>\n",
       "<text font-family=\"Times New Roman,serif\" font-size=\"14.00\" text-anchor=\"middle\" x=\"216.5\" y=\"-126.8\">gini = 0.245</text>\n",
       "<text font-family=\"Times New Roman,serif\" font-size=\"14.00\" text-anchor=\"middle\" x=\"216.5\" y=\"-111.8\">samples = 7</text>\n",
       "<text font-family=\"Times New Roman,serif\" font-size=\"14.00\" text-anchor=\"middle\" x=\"216.5\" y=\"-96.8\">value = [6, 1]</text>\n",
       "</g>\n",
       "<!-- 2&#45;&gt;3 -->\n",
       "<g class=\"edge\" id=\"edge3\"><title>2-&gt;3</title>\n",
       "<path d=\"M295.513,-192.884C284.99,-183.709 273.452,-173.65 262.523,-164.123\" fill=\"none\" stroke=\"black\"/>\n",
       "<polygon fill=\"black\" points=\"264.534,-161.233 254.696,-157.299 259.934,-166.509 264.534,-161.233\" stroke=\"black\"/>\n",
       "</g>\n",
       "<!-- 6 -->\n",
       "<g class=\"node\" id=\"node7\"><title>6</title>\n",
       "<polygon fill=\"none\" points=\"495,-149.5 404,-149.5 404,-96.5 495,-96.5 495,-149.5\" stroke=\"black\"/>\n",
       "<text font-family=\"Times New Roman,serif\" font-size=\"14.00\" text-anchor=\"middle\" x=\"449.5\" y=\"-134.3\">gini = 0.0</text>\n",
       "<text font-family=\"Times New Roman,serif\" font-size=\"14.00\" text-anchor=\"middle\" x=\"449.5\" y=\"-119.3\">samples = 7</text>\n",
       "<text font-family=\"Times New Roman,serif\" font-size=\"14.00\" text-anchor=\"middle\" x=\"449.5\" y=\"-104.3\">value = [0, 7]</text>\n",
       "</g>\n",
       "<!-- 2&#45;&gt;6 -->\n",
       "<g class=\"edge\" id=\"edge6\"><title>2-&gt;6</title>\n",
       "<path d=\"M371.162,-192.884C384.545,-181.116 399.582,-167.894 412.877,-156.203\" fill=\"none\" stroke=\"black\"/>\n",
       "<polygon fill=\"black\" points=\"415.279,-158.752 420.477,-149.52 410.656,-153.495 415.279,-158.752\" stroke=\"black\"/>\n",
       "</g>\n",
       "<!-- 4 -->\n",
       "<g class=\"node\" id=\"node5\"><title>4</title>\n",
       "<polygon fill=\"none\" points=\"208,-53 117,-53 117,-0 208,-0 208,-53\" stroke=\"black\"/>\n",
       "<text font-family=\"Times New Roman,serif\" font-size=\"14.00\" text-anchor=\"middle\" x=\"162.5\" y=\"-37.8\">gini = 0.0</text>\n",
       "<text font-family=\"Times New Roman,serif\" font-size=\"14.00\" text-anchor=\"middle\" x=\"162.5\" y=\"-22.8\">samples = 6</text>\n",
       "<text font-family=\"Times New Roman,serif\" font-size=\"14.00\" text-anchor=\"middle\" x=\"162.5\" y=\"-7.8\">value = [6, 0]</text>\n",
       "</g>\n",
       "<!-- 3&#45;&gt;4 -->\n",
       "<g class=\"edge\" id=\"edge4\"><title>3-&gt;4</title>\n",
       "<path d=\"M197.613,-88.9485C192.647,-80.2579 187.278,-70.8608 182.267,-62.0917\" fill=\"none\" stroke=\"black\"/>\n",
       "<polygon fill=\"black\" points=\"185.207,-60.1826 177.207,-53.2367 179.129,-63.6557 185.207,-60.1826\" stroke=\"black\"/>\n",
       "</g>\n",
       "<!-- 5 -->\n",
       "<g class=\"node\" id=\"node6\"><title>5</title>\n",
       "<polygon fill=\"none\" points=\"317,-53 226,-53 226,-0 317,-0 317,-53\" stroke=\"black\"/>\n",
       "<text font-family=\"Times New Roman,serif\" font-size=\"14.00\" text-anchor=\"middle\" x=\"271.5\" y=\"-37.8\">gini = 0.0</text>\n",
       "<text font-family=\"Times New Roman,serif\" font-size=\"14.00\" text-anchor=\"middle\" x=\"271.5\" y=\"-22.8\">samples = 1</text>\n",
       "<text font-family=\"Times New Roman,serif\" font-size=\"14.00\" text-anchor=\"middle\" x=\"271.5\" y=\"-7.8\">value = [0, 1]</text>\n",
       "</g>\n",
       "<!-- 3&#45;&gt;5 -->\n",
       "<g class=\"edge\" id=\"edge5\"><title>3-&gt;5</title>\n",
       "<path d=\"M235.736,-88.9485C240.794,-80.2579 246.264,-70.8608 251.367,-62.0917\" fill=\"none\" stroke=\"black\"/>\n",
       "<polygon fill=\"black\" points=\"254.516,-63.6401 256.521,-53.2367 248.466,-60.1189 254.516,-63.6401\" stroke=\"black\"/>\n",
       "</g>\n",
       "</g>\n",
       "</svg>"
      ],
      "text/plain": [
       "<IPython.core.display.SVG object>"
      ]
     },
     "execution_count": 7,
     "metadata": {},
     "output_type": "execute_result"
    }
   ],
   "source": [
    "selectedPredictions = selectedTree.predict(x_test)\n",
    "graph = Source( tree.export_graphviz(selectedTree, out_file=None, feature_names=selectedNames))\n",
    "SVG(graph.pipe(format='svg'))"
   ]
  },
  {
   "cell_type": "markdown",
   "metadata": {},
   "source": [
    "#### count true positves, flase negatives etc. and calculate metrics"
   ]
  },
  {
   "cell_type": "code",
   "execution_count": 8,
   "metadata": {},
   "outputs": [
    {
     "name": "stdout",
     "output_type": "stream",
     "text": [
      "true positives: 4\n",
      "false positives: 0\n",
      "true negatives: 43\n",
      "false negatives: 1\n",
      "true negative to false negative ratio: 43.0\n",
      "Sensitivity: 0.8\n",
      "Specificity: 1.0\n",
      "Accuracy: 0.9791666666666666\n"
     ]
    }
   ],
   "source": [
    "tp = 0\n",
    "fp = 0\n",
    "tn = 0\n",
    "fn = 0\n",
    "for i in range(len(selectedPredictions)):\n",
    "    if(selectedPredictions[i]):\n",
    "        if(y_test[i]):\n",
    "            tp += 1\n",
    "        else:\n",
    "            fp += 1\n",
    "    else:\n",
    "        if(y_test[i]):\n",
    "            fn += 1\n",
    "        else:\n",
    "            tn += 1\n",
    "print(\"true positives:\", tp)\n",
    "print(\"false positives:\", fp)\n",
    "print(\"true negatives:\", tn)\n",
    "print(\"false negatives:\", fn)\n",
    "if fp > 0:\n",
    "    print(\"true positive to false positive ratio:\",tp/fp)\n",
    "if fn > 0:\n",
    "    print(\"true negative to false negative ratio:\",tn/fn)\n",
    "print(\"Sensitivity:\",tp/(tp+fn))\n",
    "print(\"Specificity:\",tn/(tn+fp))\n",
    "print(\"Accuracy:\",(tp+tn)/(tp+tn+fp+fn))"
   ]
  },
  {
   "cell_type": "code",
   "execution_count": null,
   "metadata": {},
   "outputs": [],
   "source": []
  },
  {
   "cell_type": "code",
   "execution_count": 22,
   "metadata": {},
   "outputs": [
    {
     "name": "stdout",
     "output_type": "stream",
     "text": [
      "3519\n",
      "31\n"
     ]
    }
   ],
   "source": [
    "from sklearn.svm import LinearSVC\n",
    "from sklearn.feature_selection import SelectFromModel\n",
    "lsvc = LinearSVC(C=0.5, penalty=\"l1\", dual=False).fit(rawData, classes)\n",
    "model = SelectFromModel(lsvc, prefit=True)\n",
    "X_new = model.transform(X)\n",
    "print(len(X[0]))\n",
    "print(len(X_new[0]))"
   ]
  },
  {
   "cell_type": "code",
   "execution_count": 20,
   "metadata": {},
   "outputs": [
    {
     "ename": "ValueError",
     "evalue": "Found input variables with inconsistent numbers of samples: [31, 145]",
     "output_type": "error",
     "traceback": [
      "\u001b[1;31m---------------------------------------------------------------------------\u001b[0m",
      "\u001b[1;31mValueError\u001b[0m                                Traceback (most recent call last)",
      "\u001b[1;32m<ipython-input-20-78813037b55c>\u001b[0m in \u001b[0;36m<module>\u001b[1;34m()\u001b[0m\n\u001b[0;32m      4\u001b[0m \u001b[0mselectedTree\u001b[0m \u001b[1;33m=\u001b[0m \u001b[0mtree\u001b[0m\u001b[1;33m.\u001b[0m\u001b[0mDecisionTreeClassifier\u001b[0m\u001b[1;33m(\u001b[0m\u001b[1;33m)\u001b[0m\u001b[1;33m\u001b[0m\u001b[0m\n\u001b[0;32m      5\u001b[0m \u001b[0mselectedData\u001b[0m \u001b[1;33m=\u001b[0m \u001b[1;33m[\u001b[0m\u001b[0mlist\u001b[0m\u001b[1;33m(\u001b[0m\u001b[0mi\u001b[0m\u001b[1;33m)\u001b[0m \u001b[1;32mfor\u001b[0m \u001b[0mi\u001b[0m \u001b[1;32min\u001b[0m \u001b[0mzip\u001b[0m\u001b[1;33m(\u001b[0m\u001b[1;33m*\u001b[0m\u001b[0mselected\u001b[0m\u001b[1;33m)\u001b[0m\u001b[1;33m]\u001b[0m\u001b[1;33m\u001b[0m\u001b[0m\n\u001b[1;32m----> 6\u001b[1;33m \u001b[0mx_train\u001b[0m\u001b[1;33m,\u001b[0m \u001b[0mx_test\u001b[0m\u001b[1;33m,\u001b[0m \u001b[0my_train\u001b[0m\u001b[1;33m,\u001b[0m \u001b[0my_test\u001b[0m \u001b[1;33m=\u001b[0m \u001b[0mtrain_test_split\u001b[0m\u001b[1;33m(\u001b[0m\u001b[0mselectedData\u001b[0m\u001b[1;33m,\u001b[0m \u001b[0mclasses\u001b[0m\u001b[1;33m,\u001b[0m \u001b[0mtest_size\u001b[0m\u001b[1;33m=\u001b[0m\u001b[1;36m0.33\u001b[0m\u001b[1;33m)\u001b[0m\u001b[1;33m\u001b[0m\u001b[0m\n\u001b[0m\u001b[0;32m      7\u001b[0m \u001b[0mselectedTree\u001b[0m \u001b[1;33m=\u001b[0m \u001b[0mselectedTree\u001b[0m\u001b[1;33m.\u001b[0m\u001b[0mfit\u001b[0m\u001b[1;33m(\u001b[0m\u001b[0mx_train\u001b[0m\u001b[1;33m,\u001b[0m \u001b[0my_train\u001b[0m\u001b[1;33m)\u001b[0m\u001b[1;33m\u001b[0m\u001b[0m\n\u001b[0;32m      8\u001b[0m \u001b[0mselectedPredictions\u001b[0m \u001b[1;33m=\u001b[0m \u001b[0mselectedTree\u001b[0m\u001b[1;33m.\u001b[0m\u001b[0mpredict\u001b[0m\u001b[1;33m(\u001b[0m\u001b[0mx_test\u001b[0m\u001b[1;33m)\u001b[0m\u001b[1;33m\u001b[0m\u001b[0m\n",
      "\u001b[1;32m~\\Anaconda3\\lib\\site-packages\\sklearn\\model_selection\\_split.py\u001b[0m in \u001b[0;36mtrain_test_split\u001b[1;34m(*arrays, **options)\u001b[0m\n\u001b[0;32m   2029\u001b[0m         \u001b[0mtest_size\u001b[0m \u001b[1;33m=\u001b[0m \u001b[1;36m0.25\u001b[0m\u001b[1;33m\u001b[0m\u001b[0m\n\u001b[0;32m   2030\u001b[0m \u001b[1;33m\u001b[0m\u001b[0m\n\u001b[1;32m-> 2031\u001b[1;33m     \u001b[0marrays\u001b[0m \u001b[1;33m=\u001b[0m \u001b[0mindexable\u001b[0m\u001b[1;33m(\u001b[0m\u001b[1;33m*\u001b[0m\u001b[0marrays\u001b[0m\u001b[1;33m)\u001b[0m\u001b[1;33m\u001b[0m\u001b[0m\n\u001b[0m\u001b[0;32m   2032\u001b[0m \u001b[1;33m\u001b[0m\u001b[0m\n\u001b[0;32m   2033\u001b[0m     \u001b[1;32mif\u001b[0m \u001b[0mshuffle\u001b[0m \u001b[1;32mis\u001b[0m \u001b[1;32mFalse\u001b[0m\u001b[1;33m:\u001b[0m\u001b[1;33m\u001b[0m\u001b[0m\n",
      "\u001b[1;32m~\\Anaconda3\\lib\\site-packages\\sklearn\\utils\\validation.py\u001b[0m in \u001b[0;36mindexable\u001b[1;34m(*iterables)\u001b[0m\n\u001b[0;32m    227\u001b[0m         \u001b[1;32melse\u001b[0m\u001b[1;33m:\u001b[0m\u001b[1;33m\u001b[0m\u001b[0m\n\u001b[0;32m    228\u001b[0m             \u001b[0mresult\u001b[0m\u001b[1;33m.\u001b[0m\u001b[0mappend\u001b[0m\u001b[1;33m(\u001b[0m\u001b[0mnp\u001b[0m\u001b[1;33m.\u001b[0m\u001b[0marray\u001b[0m\u001b[1;33m(\u001b[0m\u001b[0mX\u001b[0m\u001b[1;33m)\u001b[0m\u001b[1;33m)\u001b[0m\u001b[1;33m\u001b[0m\u001b[0m\n\u001b[1;32m--> 229\u001b[1;33m     \u001b[0mcheck_consistent_length\u001b[0m\u001b[1;33m(\u001b[0m\u001b[1;33m*\u001b[0m\u001b[0mresult\u001b[0m\u001b[1;33m)\u001b[0m\u001b[1;33m\u001b[0m\u001b[0m\n\u001b[0m\u001b[0;32m    230\u001b[0m     \u001b[1;32mreturn\u001b[0m \u001b[0mresult\u001b[0m\u001b[1;33m\u001b[0m\u001b[0m\n\u001b[0;32m    231\u001b[0m \u001b[1;33m\u001b[0m\u001b[0m\n",
      "\u001b[1;32m~\\Anaconda3\\lib\\site-packages\\sklearn\\utils\\validation.py\u001b[0m in \u001b[0;36mcheck_consistent_length\u001b[1;34m(*arrays)\u001b[0m\n\u001b[0;32m    202\u001b[0m     \u001b[1;32mif\u001b[0m \u001b[0mlen\u001b[0m\u001b[1;33m(\u001b[0m\u001b[0muniques\u001b[0m\u001b[1;33m)\u001b[0m \u001b[1;33m>\u001b[0m \u001b[1;36m1\u001b[0m\u001b[1;33m:\u001b[0m\u001b[1;33m\u001b[0m\u001b[0m\n\u001b[0;32m    203\u001b[0m         raise ValueError(\"Found input variables with inconsistent numbers of\"\n\u001b[1;32m--> 204\u001b[1;33m                          \" samples: %r\" % [int(l) for l in lengths])\n\u001b[0m\u001b[0;32m    205\u001b[0m \u001b[1;33m\u001b[0m\u001b[0m\n\u001b[0;32m    206\u001b[0m \u001b[1;33m\u001b[0m\u001b[0m\n",
      "\u001b[1;31mValueError\u001b[0m: Found input variables with inconsistent numbers of samples: [31, 145]"
     ]
    }
   ],
   "source": [
    "selected = X_new\n",
    "# selectedNames = rightMotifNames\n",
    "\n",
    "selectedTree = tree.DecisionTreeClassifier()\n",
    "selectedData = [list(i) for i in zip(*selected)]\n",
    "x_train, x_test, y_train, y_test = train_test_split(selectedData, classes, test_size=0.33)\n",
    "selectedTree = selectedTree.fit(x_train, y_train)\n",
    "selectedPredictions = selectedTree.predict(x_test)\n",
    "graph = Source( tree.export_graphviz(selectedTree, out_file=None))\n",
    "SVG(graph.pipe(format='svg'))"
   ]
  },
  {
   "cell_type": "code",
   "execution_count": null,
   "metadata": {},
   "outputs": [],
   "source": []
  }
 ],
 "metadata": {
  "anaconda-cloud": {},
  "kernelspec": {
   "display_name": "Python 3",
   "language": "python",
   "name": "python3"
  },
  "language_info": {
   "codemirror_mode": {
    "name": "ipython",
    "version": 3
   },
   "file_extension": ".py",
   "mimetype": "text/x-python",
   "name": "python",
   "nbconvert_exporter": "python",
   "pygments_lexer": "ipython3",
   "version": "3.6.3"
  }
 },
 "nbformat": 4,
 "nbformat_minor": 2
}
