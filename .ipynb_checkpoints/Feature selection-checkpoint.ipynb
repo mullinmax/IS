{
 "cells": [
  {
   "cell_type": "markdown",
   "metadata": {},
   "source": [
    "# Feature selection\n",
    "#### importing libraries and reading in data"
   ]
  },
  {
   "cell_type": "code",
   "execution_count": 24,
   "metadata": {},
   "outputs": [
    {
     "name": "stdout",
     "output_type": "stream",
     "text": [
      "number of motif names: 3519\n",
      "number of recorded classes: 145\n",
      "Data Dimentions: 145 rows, 3519 cols\n"
     ]
    }
   ],
   "source": [
    "import csv\n",
    "import matplotlib.pyplot as plot\n",
    "from sklearn import tree\n",
    "from sklearn.model_selection import train_test_split\n",
    "from graphviz import Source # for drawing decision tree\n",
    "from IPython.display import SVG # for drawing decision tree\n",
    "\n",
    "motifNames = []\n",
    "classes = []\n",
    "rawData = []\n",
    "with open('data/raw.csv') as csvfile: \n",
    "    readCSV = csv.reader(csvfile, delimiter=',')\n",
    "    motifNames = next(readCSV)[1:-1] #remove left most column and 'class'\n",
    "    for row in readCSV:\n",
    "        rawData.append(row[1:-1])\n",
    "        classes.append(row[-1])\n",
    "print (\"number of motif names:\", len(motifNames)) \n",
    "print (\"number of recorded classes:\", len(classes))  \n",
    "print (\"Data Dimentions:\", len(rawData),\"rows,\", len(rawData[0]), \"cols\")\n"
   ]
  },
  {
   "cell_type": "markdown",
   "metadata": {},
   "source": [
    "#### Transpose data and convert to true / false for simpler code"
   ]
  },
  {
   "cell_type": "code",
   "execution_count": 25,
   "metadata": {},
   "outputs": [
    {
     "name": "stdout",
     "output_type": "stream",
     "text": [
      "Transposed Dimentions: 3519 rows, 145 cols\n"
     ]
    }
   ],
   "source": [
    "# convert data to T/F\n",
    "for row in range(len(rawData)):\n",
    "        for cell in range(len(rawData[row])):\n",
    "            if(rawData[row][cell] == '0.0'):\n",
    "                rawData[row][cell] = False\n",
    "            elif(rawData[row][cell] == '1.0'):\n",
    "                rawData[row][cell] = True\n",
    "                \n",
    "# convert data to T/F\n",
    "for cell in range(len(classes)):\n",
    "    if(classes[cell] == '0.0'):\n",
    "        classes[cell] = False\n",
    "    elif(classes[cell] == '1.0'):\n",
    "        classes[cell] = True\n",
    "\n",
    "    \n",
    "# transpose data\n",
    "tData = [list(i) for i in zip(*rawData)]\n",
    "print (\"Transposed Dimentions:\", len(tData),\"rows,\", len(tData[0]), \"cols\")  "
   ]
  },
  {
   "cell_type": "markdown",
   "metadata": {},
   "source": [
    "#### Count how many times each motif occurs in the positive and negative classes"
   ]
  },
  {
   "cell_type": "code",
   "execution_count": 26,
   "metadata": {},
   "outputs": [
    {
     "name": "stdout",
     "output_type": "stream",
     "text": [
      "first: 5 pos, 2 neg\n",
      "last: 2 pos, 3 neg\n",
      "max pos:  13\n",
      "max neg:  106\n"
     ]
    }
   ],
   "source": [
    "posCounts = []\n",
    "negCounts = []\n",
    "\n",
    "for row in range(len(tData)):\n",
    "    posCount = 0\n",
    "    negCount = 0\n",
    "    for col in range(len(tData[row])):\n",
    "        if(tData[row][col] == True):\n",
    "            if(classes[col] == True):\n",
    "                posCount += 1 \n",
    "            elif(classes[col] == False):\n",
    "                negCount += 1\n",
    "    posCounts.append(posCount)\n",
    "    negCounts.append(negCount)\n",
    "    \n",
    "print(\"first:\", posCounts[0], \"pos,\", negCounts[0], \"neg\")\n",
    "print(\"last:\", posCounts[-1], \"pos,\", negCounts[-1], \"neg\")\n",
    "print(\"max pos: \", max(posCounts))\n",
    "print(\"max neg: \", max(negCounts))"
   ]
  },
  {
   "cell_type": "markdown",
   "metadata": {},
   "source": [
    "#### create plots based on counts"
   ]
  },
  {
   "cell_type": "code",
   "execution_count": 27,
   "metadata": {
    "scrolled": true
   },
   "outputs": [
    {
     "data": {
      "image/png": "[encoded data removed]",
      "text/plain": [
       "<matplotlib.figure.Figure at 0x7feeb08b22b0>"
      ]
     },
     "metadata": {},
     "output_type": "display_data"
    }
   ],
   "source": [
    "import matplotlib.pyplot as plt\n",
    "plt.scatter(posCounts, negCounts)\n",
    "plt.xlabel(\"Number of positive occurrences\")\n",
    "plt.ylabel(\"Number of negative occurrences\")\n",
    "plt.show()\n"
   ]
  },
  {
   "cell_type": "markdown",
   "metadata": {},
   "source": [
    "#### split data by if it has a positive and if it has a negative occurance"
   ]
  },
  {
   "cell_type": "code",
   "execution_count": 37,
   "metadata": {},
   "outputs": [
    {
     "name": "stdout",
     "output_type": "stream",
     "text": [
      "71\n"
     ]
    }
   ],
   "source": [
    "never = []\n",
    "neverMotifNames = []\n",
    "mixed = []\n",
    "mixedMotifNames = []\n",
    "right = []\n",
    "rightMotifNames = []\n",
    "bottom = []\n",
    "bottomMotifNames = []\n",
    "ratio = []\n",
    "ratioMotifNames = []\n",
    "for row in range(len(posCounts)):\n",
    "    if negCounts[row] == 0 and posCounts[row] == 0:\n",
    "        never.append(tData[row])\n",
    "        neverMotifNames.append(motifNames[row])\n",
    "    else:\n",
    "        if posCounts[row] == max(posCounts):\n",
    "            right.append(tData[row])\n",
    "            rightMotifNames.append(motifNames[row])\n",
    "        if negCounts[row] < 3:\n",
    "            bottom.append(tData[row])\n",
    "            bottomMotifNames.append(motifNames[row])\n",
    "        if posCounts[row] > 0 and negCounts[row] > 0:\n",
    "            mixed.append(tData[row])\n",
    "            mixedMotifNames.append(motifNames[row])\n",
    "        if (posCounts[row] / max(posCounts)) / (1+negCounts[row]/max(negCounts)) > .5:\n",
    "            ratio.append(tData[row])\n",
    "            ratioMotifNames.append(motifNames[row])\n",
    "            \n",
    "print(len(ratio))"
   ]
  },
  {
   "cell_type": "markdown",
   "metadata": {},
   "source": [
    "#### create a decision tree and train it on mixedData"
   ]
  },
  {
   "cell_type": "code",
   "execution_count": 47,
   "metadata": {
    "collapsed": true
   },
   "outputs": [],
   "source": [
    "selected = bottom\n",
    "selectedNames = bottomMotifNames\n",
    "\n",
    "selectedTree = tree.DecisionTreeClassifier()\n",
    "selectedData = [list(i) for i in zip(*selected)]\n",
    "x_train, x_test, y_train, y_test = train_test_split(selectedData, classes, test_size=0.33)\n",
    "selectedTree = selectedTree.fit(x_train, y_train)"
   ]
  },
  {
   "cell_type": "markdown",
   "metadata": {},
   "source": [
    "#### display the tree we've genorated"
   ]
  },
  {
   "cell_type": "code",
   "execution_count": 48,
   "metadata": {},
   "outputs": [
    {
     "data": {
      "image/svg+xml": [
       "<svg height=\"373pt\" viewBox=\"0.00 0.00 629.00 373.00\" width=\"629pt\" xmlns=\"http://www.w3.org/2000/svg\" xmlns:xlink=\"http://www.w3.org/1999/xlink\">\n",
       "<g class=\"graph\" id=\"graph0\" transform=\"scale(1 1) rotate(0) translate(4 369)\">\n",
       "<title>Tree</title>\n",
       "<polygon fill=\"#ffffff\" points=\"-4,4 -4,-369 625,-369 625,4 -4,4\" stroke=\"transparent\"/>\n",
       "<!-- 0 -->\n",
       "<g class=\"node\" id=\"node1\">\n",
       "<title>0</title>\n",
       "<polygon fill=\"none\" points=\"471.5,-365 282.5,-365 282.5,-297 471.5,-297 471.5,-365\" stroke=\"#000000\"/>\n",
       "<text fill=\"#000000\" font-family=\"Times,serif\" font-size=\"14.00\" text-anchor=\"middle\" x=\"377\" y=\"-349.8\">DME_KGSTMMGWA &lt;= 0.5</text>\n",
       "<text fill=\"#000000\" font-family=\"Times,serif\" font-size=\"14.00\" text-anchor=\"middle\" x=\"377\" y=\"-334.8\">gini = 0.151</text>\n",
       "<text fill=\"#000000\" font-family=\"Times,serif\" font-size=\"14.00\" text-anchor=\"middle\" x=\"377\" y=\"-319.8\">samples = 97</text>\n",
       "<text fill=\"#000000\" font-family=\"Times,serif\" font-size=\"14.00\" text-anchor=\"middle\" x=\"377\" y=\"-304.8\">value = [89, 8]</text>\n",
       "</g>\n",
       "<!-- 1 -->\n",
       "<g class=\"node\" id=\"node2\">\n",
       "<title>1</title>\n",
       "<polygon fill=\"none\" points=\"365.5,-261 148.5,-261 148.5,-193 365.5,-193 365.5,-261\" stroke=\"#000000\"/>\n",
       "<text fill=\"#000000\" font-family=\"Times,serif\" font-size=\"14.00\" text-anchor=\"middle\" x=\"257\" y=\"-245.8\">DME_CGGTGATATGGGG &lt;= 0.5</text>\n",
       "<text fill=\"#000000\" font-family=\"Times,serif\" font-size=\"14.00\" text-anchor=\"middle\" x=\"257\" y=\"-230.8\">gini = 0.064</text>\n",
       "<text fill=\"#000000\" font-family=\"Times,serif\" font-size=\"14.00\" text-anchor=\"middle\" x=\"257\" y=\"-215.8\">samples = 91</text>\n",
       "<text fill=\"#000000\" font-family=\"Times,serif\" font-size=\"14.00\" text-anchor=\"middle\" x=\"257\" y=\"-200.8\">value = [88, 3]</text>\n",
       "</g>\n",
       "<!-- 0&#45;&gt;1 -->\n",
       "<g class=\"edge\" id=\"edge1\">\n",
       "<title>0-&gt;1</title>\n",
       "<path d=\"M337.7075,-296.9465C326.9333,-287.6088 315.1436,-277.3911 303.985,-267.7203\" fill=\"none\" stroke=\"#000000\"/>\n",
       "<polygon fill=\"#000000\" points=\"306.2299,-265.0344 296.3808,-261.13 301.6454,-270.3243 306.2299,-265.0344\" stroke=\"#000000\"/>\n",
       "<text fill=\"#000000\" font-family=\"Times,serif\" font-size=\"14.00\" text-anchor=\"middle\" x=\"298.1619\" y=\"-282.3665\">True</text>\n",
       "</g>\n",
       "<!-- 6 -->\n",
       "<g class=\"node\" id=\"node7\">\n",
       "<title>6</title>\n",
       "<polygon fill=\"none\" points=\"610,-261 384,-261 384,-193 610,-193 610,-261\" stroke=\"#000000\"/>\n",
       "<text fill=\"#000000\" font-family=\"Times,serif\" font-size=\"14.00\" text-anchor=\"middle\" x=\"497\" y=\"-245.8\">DME_GGTGATCCACGACG &lt;= 0.5</text>\n",
       "<text fill=\"#000000\" font-family=\"Times,serif\" font-size=\"14.00\" text-anchor=\"middle\" x=\"497\" y=\"-230.8\">gini = 0.278</text>\n",
       "<text fill=\"#000000\" font-family=\"Times,serif\" font-size=\"14.00\" text-anchor=\"middle\" x=\"497\" y=\"-215.8\">samples = 6</text>\n",
       "<text fill=\"#000000\" font-family=\"Times,serif\" font-size=\"14.00\" text-anchor=\"middle\" x=\"497\" y=\"-200.8\">value = [1, 5]</text>\n",
       "</g>\n",
       "<!-- 0&#45;&gt;6 -->\n",
       "<g class=\"edge\" id=\"edge6\">\n",
       "<title>0-&gt;6</title>\n",
       "<path d=\"M416.2925,-296.9465C427.0667,-287.6088 438.8564,-277.3911 450.015,-267.7203\" fill=\"none\" stroke=\"#000000\"/>\n",
       "<polygon fill=\"#000000\" points=\"452.3546,-270.3243 457.6192,-261.13 447.7701,-265.0344 452.3546,-270.3243\" stroke=\"#000000\"/>\n",
       "<text fill=\"#000000\" font-family=\"Times,serif\" font-size=\"14.00\" text-anchor=\"middle\" x=\"455.8381\" y=\"-282.3665\">False</text>\n",
       "</g>\n",
       "<!-- 2 -->\n",
       "<g class=\"node\" id=\"node3\">\n",
       "<title>2</title>\n",
       "<polygon fill=\"none\" points=\"226,-157 0,-157 0,-89 226,-89 226,-157\" stroke=\"#000000\"/>\n",
       "<text fill=\"#000000\" font-family=\"Times,serif\" font-size=\"14.00\" text-anchor=\"middle\" x=\"113\" y=\"-141.8\">DME_GGATGTGCCTGAGG &lt;= 0.5</text>\n",
       "<text fill=\"#000000\" font-family=\"Times,serif\" font-size=\"14.00\" text-anchor=\"middle\" x=\"113\" y=\"-126.8\">gini = 0.022</text>\n",
       "<text fill=\"#000000\" font-family=\"Times,serif\" font-size=\"14.00\" text-anchor=\"middle\" x=\"113\" y=\"-111.8\">samples = 89</text>\n",
       "<text fill=\"#000000\" font-family=\"Times,serif\" font-size=\"14.00\" text-anchor=\"middle\" x=\"113\" y=\"-96.8\">value = [88, 1]</text>\n",
       "</g>\n",
       "<!-- 1&#45;&gt;2 -->\n",
       "<g class=\"edge\" id=\"edge2\">\n",
       "<title>1-&gt;2</title>\n",
       "<path d=\"M209.849,-192.9465C196.6713,-183.4293 182.2278,-172.9978 168.6103,-163.163\" fill=\"none\" stroke=\"#000000\"/>\n",
       "<polygon fill=\"#000000\" points=\"170.413,-160.1476 160.2569,-157.13 166.3145,-165.8223 170.413,-160.1476\" stroke=\"#000000\"/>\n",
       "</g>\n",
       "<!-- 5 -->\n",
       "<g class=\"node\" id=\"node6\">\n",
       "<title>5</title>\n",
       "<polygon fill=\"none\" points=\"336,-149.5 244,-149.5 244,-96.5 336,-96.5 336,-149.5\" stroke=\"#000000\"/>\n",
       "<text fill=\"#000000\" font-family=\"Times,serif\" font-size=\"14.00\" text-anchor=\"middle\" x=\"290\" y=\"-134.3\">gini = 0.0</text>\n",
       "<text fill=\"#000000\" font-family=\"Times,serif\" font-size=\"14.00\" text-anchor=\"middle\" x=\"290\" y=\"-119.3\">samples = 2</text>\n",
       "<text fill=\"#000000\" font-family=\"Times,serif\" font-size=\"14.00\" text-anchor=\"middle\" x=\"290\" y=\"-104.3\">value = [0, 2]</text>\n",
       "</g>\n",
       "<!-- 1&#45;&gt;5 -->\n",
       "<g class=\"edge\" id=\"edge5\">\n",
       "<title>1-&gt;5</title>\n",
       "<path d=\"M267.8054,-192.9465C271.2306,-182.1519 275.029,-170.1813 278.5011,-159.2389\" fill=\"none\" stroke=\"#000000\"/>\n",
       "<polygon fill=\"#000000\" points=\"281.8895,-160.1324 281.578,-149.5422 275.2173,-158.0152 281.8895,-160.1324\" stroke=\"#000000\"/>\n",
       "</g>\n",
       "<!-- 3 -->\n",
       "<g class=\"node\" id=\"node4\">\n",
       "<title>3</title>\n",
       "<polygon fill=\"none\" points=\"106,-53 8,-53 8,0 106,0 106,-53\" stroke=\"#000000\"/>\n",
       "<text fill=\"#000000\" font-family=\"Times,serif\" font-size=\"14.00\" text-anchor=\"middle\" x=\"57\" y=\"-37.8\">gini = 0.0</text>\n",
       "<text fill=\"#000000\" font-family=\"Times,serif\" font-size=\"14.00\" text-anchor=\"middle\" x=\"57\" y=\"-22.8\">samples = 88</text>\n",
       "<text fill=\"#000000\" font-family=\"Times,serif\" font-size=\"14.00\" text-anchor=\"middle\" x=\"57\" y=\"-7.8\">value = [88, 0]</text>\n",
       "</g>\n",
       "<!-- 2&#45;&gt;3 -->\n",
       "<g class=\"edge\" id=\"edge3\">\n",
       "<title>2-&gt;3</title>\n",
       "<path d=\"M93.2565,-88.9777C88.2083,-80.2786 82.7669,-70.9018 77.6734,-62.1247\" fill=\"none\" stroke=\"#000000\"/>\n",
       "<polygon fill=\"#000000\" points=\"80.5689,-60.1409 72.5224,-53.2485 74.5145,-63.6544 80.5689,-60.1409\" stroke=\"#000000\"/>\n",
       "</g>\n",
       "<!-- 4 -->\n",
       "<g class=\"node\" id=\"node5\">\n",
       "<title>4</title>\n",
       "<polygon fill=\"none\" points=\"216,-53 124,-53 124,0 216,0 216,-53\" stroke=\"#000000\"/>\n",
       "<text fill=\"#000000\" font-family=\"Times,serif\" font-size=\"14.00\" text-anchor=\"middle\" x=\"170\" y=\"-37.8\">gini = 0.0</text>\n",
       "<text fill=\"#000000\" font-family=\"Times,serif\" font-size=\"14.00\" text-anchor=\"middle\" x=\"170\" y=\"-22.8\">samples = 1</text>\n",
       "<text fill=\"#000000\" font-family=\"Times,serif\" font-size=\"14.00\" text-anchor=\"middle\" x=\"170\" y=\"-7.8\">value = [0, 1]</text>\n",
       "</g>\n",
       "<!-- 2&#45;&gt;4 -->\n",
       "<g class=\"edge\" id=\"edge4\">\n",
       "<title>2-&gt;4</title>\n",
       "<path d=\"M133.0961,-88.9777C138.2344,-80.2786 143.773,-70.9018 148.9575,-62.1247\" fill=\"none\" stroke=\"#000000\"/>\n",
       "<polygon fill=\"#000000\" points=\"152.1281,-63.6387 154.2004,-53.2485 146.101,-60.0786 152.1281,-63.6387\" stroke=\"#000000\"/>\n",
       "</g>\n",
       "<!-- 7 -->\n",
       "<g class=\"node\" id=\"node8\">\n",
       "<title>7</title>\n",
       "<polygon fill=\"none\" points=\"511,-149.5 419,-149.5 419,-96.5 511,-96.5 511,-149.5\" stroke=\"#000000\"/>\n",
       "<text fill=\"#000000\" font-family=\"Times,serif\" font-size=\"14.00\" text-anchor=\"middle\" x=\"465\" y=\"-134.3\">gini = 0.0</text>\n",
       "<text fill=\"#000000\" font-family=\"Times,serif\" font-size=\"14.00\" text-anchor=\"middle\" x=\"465\" y=\"-119.3\">samples = 5</text>\n",
       "<text fill=\"#000000\" font-family=\"Times,serif\" font-size=\"14.00\" text-anchor=\"middle\" x=\"465\" y=\"-104.3\">value = [0, 5]</text>\n",
       "</g>\n",
       "<!-- 6&#45;&gt;7 -->\n",
       "<g class=\"edge\" id=\"edge7\">\n",
       "<title>6-&gt;7</title>\n",
       "<path d=\"M486.522,-192.9465C483.2006,-182.1519 479.5173,-170.1813 476.1504,-159.2389\" fill=\"none\" stroke=\"#000000\"/>\n",
       "<polygon fill=\"#000000\" points=\"479.453,-158.0706 473.1668,-149.5422 472.7625,-160.1293 479.453,-158.0706\" stroke=\"#000000\"/>\n",
       "</g>\n",
       "<!-- 8 -->\n",
       "<g class=\"node\" id=\"node9\">\n",
       "<title>8</title>\n",
       "<polygon fill=\"none\" points=\"621,-149.5 529,-149.5 529,-96.5 621,-96.5 621,-149.5\" stroke=\"#000000\"/>\n",
       "<text fill=\"#000000\" font-family=\"Times,serif\" font-size=\"14.00\" text-anchor=\"middle\" x=\"575\" y=\"-134.3\">gini = 0.0</text>\n",
       "<text fill=\"#000000\" font-family=\"Times,serif\" font-size=\"14.00\" text-anchor=\"middle\" x=\"575\" y=\"-119.3\">samples = 1</text>\n",
       "<text fill=\"#000000\" font-family=\"Times,serif\" font-size=\"14.00\" text-anchor=\"middle\" x=\"575\" y=\"-104.3\">value = [1, 0]</text>\n",
       "</g>\n",
       "<!-- 6&#45;&gt;8 -->\n",
       "<g class=\"edge\" id=\"edge8\">\n",
       "<title>6-&gt;8</title>\n",
       "<path d=\"M522.5401,-192.9465C531.0491,-181.6012 540.5325,-168.9567 549.0707,-157.5724\" fill=\"none\" stroke=\"#000000\"/>\n",
       "<polygon fill=\"#000000\" points=\"551.8933,-159.6422 555.0934,-149.5422 546.2933,-155.4422 551.8933,-159.6422\" stroke=\"#000000\"/>\n",
       "</g>\n",
       "</g>\n",
       "</svg>"
      ],
      "text/plain": [
       "<IPython.core.display.SVG object>"
      ]
     },
     "execution_count": 48,
     "metadata": {},
     "output_type": "execute_result"
    }
   ],
   "source": [
    "selectedPredictions = selectedTree.predict(x_test)\n",
    "graph = Source( tree.export_graphviz(selectedTree, out_file=None, feature_names=selectedNames))\n",
    "SVG(graph.pipe(format='svg'))"
   ]
  },
  {
   "cell_type": "markdown",
   "metadata": {},
   "source": [
    "#### count true positves, flase negatives etc. and calculate metrics"
   ]
  },
  {
   "cell_type": "code",
   "execution_count": 49,
   "metadata": {},
   "outputs": [
    {
     "name": "stdout",
     "output_type": "stream",
     "text": [
      "true positives: 1\n",
      "false positives: 3\n",
      "true negatives: 40\n",
      "false negatives: 4\n",
      "true positive to false positive ratio: 0.3333333333333333\n",
      "true negative to false negative ratio: 10.0\n",
      "Sensitivity: 0.2\n",
      "Sensitivity: 0.9302325581395349\n",
      "Accuracy: 0.8541666666666666\n"
     ]
    }
   ],
   "source": [
    "tp = 0\n",
    "fp = 0\n",
    "tn = 0\n",
    "fn = 0\n",
    "for i in range(len(selectedPredictions)):\n",
    "    if(selectedPredictions[i]):\n",
    "        if(y_test[i]):\n",
    "            tp += 1\n",
    "        else:\n",
    "            fp += 1\n",
    "    else:\n",
    "        if(y_test[i]):\n",
    "            fn += 1\n",
    "        else:\n",
    "            tn += 1\n",
    "print(\"true positives:\", tp)\n",
    "print(\"false positives:\", fp)\n",
    "print(\"true negatives:\", tn)\n",
    "print(\"false negatives:\", fn)\n",
    "if fp > 0:\n",
    "    print(\"true positive to false positive ratio:\",tp/fp)\n",
    "if fn > 0:\n",
    "    print(\"true negative to false negative ratio:\",tn/fn)\n",
    "print(\"Sensitivity:\",tp/(tp+fn))\n",
    "print(\"Sensitivity:\",tn/(tn+fp))\n",
    "print(\"Accuracy:\",(tp+tn)/(tp+tn+fp+fn))"
   ]
  },
  {
   "cell_type": "code",
   "execution_count": null,
   "metadata": {},
   "outputs": [],
   "source": []
  },
  {
   "cell_type": "code",
   "execution_count": null,
   "metadata": {},
   "outputs": [],
   "source": []
  }
 ],
 "metadata": {
  "anaconda-cloud": {},
  "kernelspec": {
   "display_name": "Python 3",
   "language": "python",
   "name": "python3"
  },
  "language_info": {
   "codemirror_mode": {
    "name": "ipython",
    "version": 3
   },
   "file_extension": ".py",
   "mimetype": "text/x-python",
   "name": "python",
   "nbconvert_exporter": "python",
   "pygments_lexer": "ipython3",
   "version": "3.6.4"
  }
 },
 "nbformat": 4,
 "nbformat_minor": 2
}
