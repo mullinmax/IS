{
 "cells": [
  {
   "cell_type": "markdown",
   "metadata": {},
   "source": [
    "# Feature selection\n",
    "#### importing libraries and reading in data"
   ]
  },
  {
   "cell_type": "code",
   "execution_count": 45,
   "metadata": {},
   "outputs": [
    {
     "name": "stdout",
     "output_type": "stream",
     "text": [
      "number of motif names: 182\n",
      "number of recorded classes: 145\n",
      "Data Dimentions: 145 rows, 182 cols\n"
     ]
    }
   ],
   "source": [
    "import csv\n",
    "import matplotlib.pyplot as plt\n",
    "from sklearn import tree\n",
    "from sklearn.model_selection import train_test_split\n",
    "from graphviz import Source # for drawing decision tree\n",
    "from IPython.display import SVG # for drawing decision tree\n",
    "import numpy as np\n",
    "\n",
    "motifNames = []\n",
    "classes = []\n",
    "rawData = []\n",
    "# with open('data/raw.csv') as csvfile: \n",
    "#     readCSV = csv.reader(csvfile, delimiter=',') #for \"raw.csv\"\n",
    "#     motifNames = next(readCSV)[1:-1] #remove left most column and 'class'\n",
    "#     for row in readCSV:\n",
    "#         rawData.append(row[1:-1])\n",
    "#         classes.append(row[-1])\n",
    "\n",
    "with open(\"data/yingnanData.csv\", \"r\") as f:\n",
    "    motifNames = next(f).split()[1:-1] #remove left most column and 'class'\n",
    "    for line in f:\n",
    "        row = line.split()\n",
    "        rawData.append(row[1:-1])\n",
    "        classes.append(row[-1])\n",
    "\n",
    "print (\"number of motif names:\", len(motifNames)) \n",
    "print (\"number of recorded classes:\", len(classes))  \n",
    "print (\"Data Dimentions:\", len(rawData),\"rows,\", len(rawData[0]), \"cols\")\n"
   ]
  },
  {
   "cell_type": "markdown",
   "metadata": {},
   "source": [
    "#### Transpose data and convert to true / false for simpler code"
   ]
  },
  {
   "cell_type": "code",
   "execution_count": 46,
   "metadata": {},
   "outputs": [
    {
     "name": "stdout",
     "output_type": "stream",
     "text": [
      "Transposed Dimentions: 182 rows, 145 cols\n"
     ]
    }
   ],
   "source": [
    "# For \"raw.csv\"\n",
    "# # convert data to T/F\n",
    "# for row in range(len(rawData)):\n",
    "#         for cell in range(len(rawData[row])):\n",
    "#             if(rawData[row][cell] == '0.0'):\n",
    "#                 rawData[row][cell] = False\n",
    "#             elif(rawData[row][cell] == '1.0'):\n",
    "#                 rawData[row][cell] = True\n",
    "                \n",
    "# # convert data to T/F\n",
    "# for cell in range(len(classes)):\n",
    "#     if(classes[cell] == '0.0'):\n",
    "#         classes[cell] = False\n",
    "#     elif(classes[cell] == '1.0'):\n",
    "#         classes[cell] = True\n",
    "\n",
    "# for \"yingnanData.csv\"\n",
    "# convert data to T/F\n",
    "for row in range(len(rawData)):\n",
    "        for cell in range(len(rawData[row])):\n",
    "            if(rawData[row][cell] == '0'):\n",
    "                rawData[row][cell] = False\n",
    "            elif(rawData[row][cell] == '1'):\n",
    "                rawData[row][cell] = True\n",
    "                \n",
    "# convert data to T/F\n",
    "for cell in range(len(classes)):\n",
    "    if(classes[cell] == '0'):\n",
    "        classes[cell] = False\n",
    "    elif(classes[cell] == '1'):\n",
    "        classes[cell] = True\n",
    "\n",
    "    \n",
    "# transpose data\n",
    "tData = [list(i) for i in zip(*rawData)]\n",
    "print (\"Transposed Dimentions:\", len(tData),\"rows,\", len(tData[0]), \"cols\")  "
   ]
  },
  {
   "cell_type": "markdown",
   "metadata": {},
   "source": [
    "#### Count how many times each motif occurs in the positive and negative classes"
   ]
  },
  {
   "cell_type": "code",
   "execution_count": 47,
   "metadata": {},
   "outputs": [
    {
     "name": "stdout",
     "output_type": "stream",
     "text": [
      "first: 1 pos, 14 neg\n",
      "last: 1 pos, 8 neg\n",
      "max pos:  12\n",
      "max neg:  119\n"
     ]
    }
   ],
   "source": [
    "posCounts = []\n",
    "negCounts = []\n",
    "\n",
    "for row in range(len(tData)):\n",
    "    posCount = 0\n",
    "    negCount = 0\n",
    "    for col in range(len(tData[row])):\n",
    "        if(tData[row][col] == True):\n",
    "            if(classes[col] == True):\n",
    "                posCount += 1 \n",
    "            elif(classes[col] == False):\n",
    "                negCount += 1\n",
    "    posCounts.append(posCount)\n",
    "    negCounts.append(negCount)\n",
    "    \n",
    "print(\"first:\", posCounts[0], \"pos,\", negCounts[0], \"neg\")\n",
    "print(\"last:\", posCounts[-1], \"pos,\", negCounts[-1], \"neg\")\n",
    "print(\"max pos: \", max(posCounts))\n",
    "print(\"max neg: \", max(negCounts))"
   ]
  },
  {
   "cell_type": "code",
   "execution_count": 48,
   "metadata": {},
   "outputs": [],
   "source": [
    "numMotifs = len(motifNames)\n",
    "posCoOccur = [0 for x in range(numMotifs*numMotifs)]\n",
    "negCoOccur = [0 for x in range(numMotifs*numMotifs)]\n",
    "for primaryMotif in range(len(tData)):\n",
    "    for col in range(len(tData[primaryMotif])):\n",
    "        if(tData[primaryMotif][col]):\n",
    "            for secondaryMotif in range(primaryMotif+1,numMotifs):\n",
    "                if(tData[secondaryMotif][col]):\n",
    "                    if(classes[col]):\n",
    "                        posCoOccur[primaryMotif + secondaryMotif * numMotifs] += 1\n",
    "                    else:\n",
    "                        negCoOccur[primaryMotif + secondaryMotif * numMotifs] += 1\n"
   ]
  },
  {
   "cell_type": "markdown",
   "metadata": {},
   "source": [
    "### plot co-occurances"
   ]
  },
  {
   "cell_type": "code",
   "execution_count": 49,
   "metadata": {},
   "outputs": [
    {
     "data": {
      "image/png": "[encoded data removed]",
      "text/plain": [
       "<matplotlib.figure.Figure at 0x2780000fd30>"
      ]
     },
     "metadata": {},
     "output_type": "display_data"
    }
   ],
   "source": [
    "import random\n",
    "# plt.scatter(list(map(lambda x: x + random.random() -.5, posCounts)), list(map(lambda x: x + random.random() -.5, negCounts)))\n",
    "# plt.scatter(posCoOccur, negCoOccur, alpha=0.3)\n",
    "plt.scatter(list(map(lambda x: x + random.random() -.5, posCoOccur)), list(map(lambda x: x + random.random() -.5, negCoOccur)), alpha=0.2)\n",
    "plt.xlabel(\"Number of positive co-occurrences\")\n",
    "plt.ylabel(\"Number of negative co-occurrences\")\n",
    "plt.show()"
   ]
  },
  {
   "cell_type": "markdown",
   "metadata": {},
   "source": [
    "#### create plots foreground and background counts"
   ]
  },
  {
   "cell_type": "code",
   "execution_count": 56,
   "metadata": {
    "scrolled": true
   },
   "outputs": [
    {
     "data": {
      "image/png": "[encoded data removed]",
      "text/plain": [
       "<matplotlib.figure.Figure at 0x278000f3668>"
      ]
     },
     "metadata": {},
     "output_type": "display_data"
    }
   ],
   "source": [
    "import random\n",
    "# plt.scatter(list(map(lambda x: x + random.random() -.5, posCounts)), list(map(lambda x: x + random.random() -.5, negCounts)))\n",
    "# plt.scatter(posCounts, negCounts, alpha=0.3)\n",
    "plt.scatter(list(map(lambda x: x + random.random() -.5, posCounts)), list(map(lambda x: x + random.random() -.5, negCounts)), alpha=0.3)\n",
    "plt.xlabel(\"Number of positive occurrences\")\n",
    "plt.ylabel(\"Number of negative occurrences\")\n",
    "plt.show()\n"
   ]
  },
  {
   "cell_type": "code",
   "execution_count": 51,
   "metadata": {},
   "outputs": [
    {
     "data": {
      "image/png": "[encoded data removed]",
      "text/plain": [
       "<matplotlib.figure.Figure at 0x2780010f1d0>"
      ]
     },
     "metadata": {},
     "output_type": "display_data"
    }
   ],
   "source": [
    "heatData = []\n",
    "for maxNeg in range(max(negCounts)):\n",
    "    heatDataRow = []\n",
    "    for minPos in range(max(posCounts)):\n",
    "        predictions = [0] * len(classes)\n",
    "        \n",
    "        for motif in range(len(posCounts)):\n",
    "            if(posCounts[motif] > minPos and negCounts[motif] < maxNeg):\n",
    "                for seq in range(len(classes)):\n",
    "                    if(tData[motif][seq]):\n",
    "                        predictions[seq] += 1.0\n",
    "                    else:\n",
    "                        predictions[seq] -= 1.0\n",
    "        tp = 0\n",
    "        fp = 0\n",
    "        tn = 0\n",
    "        fn = 0\n",
    "        for i in range(len(classes)):\n",
    "            if(predictions[i] >= 0):\n",
    "                if(classes[i]):\n",
    "                    tp += 1.0\n",
    "                else:\n",
    "                    fp += 1.0\n",
    "            else:\n",
    "                if(classes[i]):\n",
    "                    fn += 1.0\n",
    "                else:\n",
    "                    tn += 1.0\n",
    "        heatDataRow.append((tp+tn)/(tp+tn+fp+fn))\n",
    "    heatData.append(heatDataRow)\n",
    "        \n",
    "        \n",
    "    \n",
    "#         print(\"Sensitivity:\",tp/(tp+fn))\n",
    "#         print(\"Specificity:\",tn/(tn+fp))\n",
    "#         print(\"Accuracy:\",(tp+tn)/(tp+tn+fp+fn))\n",
    "\n",
    "# import matplotlib as mpl\n",
    "# import numpy as np\n",
    "\n",
    "img = plt.imshow(np.array(heatData),interpolation='nearest')\n",
    "\n",
    "plt.colorbar() # make a color bar\n",
    "plt.axis('auto')\n",
    "plt.gca().invert_yaxis()\n",
    "plt.title(\"Accuracy of majority vote with constraints x and y\")\n",
    "plt.xlabel(\"Minimum number of Positive occurrences\")\n",
    "plt.ylabel(\"Maximum number of negative occurrences\")\n",
    "plt.show()"
   ]
  },
  {
   "cell_type": "markdown",
   "metadata": {},
   "source": [
    "#### create lasso scores"
   ]
  },
  {
   "cell_type": "code",
   "execution_count": 52,
   "metadata": {},
   "outputs": [
    {
     "name": "stdout",
     "output_type": "stream",
     "text": [
      "182\n"
     ]
    }
   ],
   "source": [
    "from sklearn import linear_model\n",
    "clf = linear_model.Lasso(alpha=.001)\n",
    "clf.fit(rawData, classes)\n",
    "lassoScores = clf.coef_\n",
    "print(len(lassoScores))"
   ]
  },
  {
   "cell_type": "markdown",
   "metadata": {},
   "source": [
    "#### split data by if it has a positive and if it has a negative occurance"
   ]
  },
  {
   "cell_type": "code",
   "execution_count": 53,
   "metadata": {},
   "outputs": [],
   "source": [
    "never = []\n",
    "neverMotifNames = []\n",
    "mixed = []\n",
    "mixedMotifNames = []\n",
    "right = []\n",
    "rightMotifNames = []\n",
    "bottom = []\n",
    "bottomMotifNames = []\n",
    "ratio = []\n",
    "ratioMotifNames = []\n",
    "lasso = []\n",
    "lassoMotifNames = []\n",
    "welchList = []\n",
    "welchListMotifNames = []\n",
    "for row in range(len(posCounts)):\n",
    "    if negCounts[row] == 0 and posCounts[row] == 0:\n",
    "        never.append(tData[row])\n",
    "        neverMotifNames.append(motifNames[row])\n",
    "    else:\n",
    "        if posCounts[row] >= max(posCounts) - 1:\n",
    "            right.append(tData[row])\n",
    "            rightMotifNames.append(motifNames[row])\n",
    "        if negCounts[row] < 3:\n",
    "            bottom.append(tData[row])\n",
    "            bottomMotifNames.append(motifNames[row])\n",
    "        if posCounts[row] > 0 and negCounts[row] > 0:\n",
    "            mixed.append(tData[row])\n",
    "            mixedMotifNames.append(motifNames[row])\n",
    "        if (posCounts[row] / max(posCounts)) / (1+negCounts[row]/max(negCounts)) > .5:\n",
    "            ratio.append(tData[row])\n",
    "            ratioMotifNames.append(motifNames[row])\n",
    "        if lassoScores[row] > 0:\n",
    "            lasso.append(tData[row])\n",
    "            lassoMotifNames.append(motifNames[row]) \n",
    "        if posCounts[row] >= 9 and negCounts[row] <= 20:\n",
    "            welchList.append(tData[row])\n",
    "            welchListMotifNames.append(motifNames[row]) \n",
    "            "
   ]
  },
  {
   "cell_type": "code",
   "execution_count": 54,
   "metadata": {},
   "outputs": [
    {
     "name": "stdout",
     "output_type": "stream",
     "text": [
      "motif name|true positives|false positives|true negatives|false negatives|accuracy|Sensitivity|Specificity|True Positive + False Negative\n"
     ]
    }
   ],
   "source": [
    "\n",
    "\n",
    "# calculate and list metrics for all motifs with foreground >= 9 & background <= 20\n",
    "print('motif name|true positives|false positives|true negatives|false negatives|accuracy|Sensitivity|Specificity|True Positive + False Negative')\n",
    "\n",
    "for motif in range(len(welchList)):\n",
    "    tp = 0\n",
    "    fp = 0\n",
    "    tn = 0\n",
    "    fn = 0\n",
    "    for i in range(len(welchList[motif])):\n",
    "        if(welchList[motif][i]):\n",
    "            if(classes[i]):\n",
    "                tp += 1\n",
    "            else:\n",
    "                fp += 1\n",
    "        else:\n",
    "            if(classes[i]):\n",
    "                fn += 1\n",
    "            else:\n",
    "                tn += 1\n",
    "    if(tn+fp == 0):\n",
    "        print(welchListMotifNames[motif],\"|\", tp,\"|\", fp,\"|\", tn,\"|\", fn,\"|\",(tp+tn)/(tp+tn+fp+fn),\"|\",tp/(tp+fn),\"|\", \"NA\",\"|\", tp+fn)\n",
    "    else:\n",
    "        print(welchListMotifNames[motif],\"|\", tp,\"|\", fp,\"|\", tn,\"|\", fn,\"|\",(tp+tn)/(tp+tn+fp+fn),\"|\",tp/(tp+fn),\"|\",tn/(tn+fp),\"|\", tp+fn)\n"
   ]
  },
  {
   "cell_type": "markdown",
   "metadata": {},
   "source": [
    "#### create a decision tree and train it on mixedData"
   ]
  },
  {
   "cell_type": "markdown",
   "metadata": {},
   "source": [
    "#### display the tree we've genorated"
   ]
  },
  {
   "cell_type": "markdown",
   "metadata": {},
   "source": [
    "#### count true positves, flase negatives etc. and calculate metrics"
   ]
  },
  {
   "cell_type": "code",
   "execution_count": 55,
   "metadata": {},
   "outputs": [
    {
     "ename": "NameError",
     "evalue": "name 'selectedPredictions' is not defined",
     "output_type": "error",
     "traceback": [
      "\u001b[1;31m---------------------------------------------------------------------------\u001b[0m",
      "\u001b[1;31mNameError\u001b[0m                                 Traceback (most recent call last)",
      "\u001b[1;32m<ipython-input-55-f97e15620d2d>\u001b[0m in \u001b[0;36m<module>\u001b[1;34m()\u001b[0m\n\u001b[0;32m      3\u001b[0m \u001b[0mtn\u001b[0m \u001b[1;33m=\u001b[0m \u001b[1;36m0\u001b[0m\u001b[1;33m\u001b[0m\u001b[0m\n\u001b[0;32m      4\u001b[0m \u001b[0mfn\u001b[0m \u001b[1;33m=\u001b[0m \u001b[1;36m0\u001b[0m\u001b[1;33m\u001b[0m\u001b[0m\n\u001b[1;32m----> 5\u001b[1;33m \u001b[1;32mfor\u001b[0m \u001b[0mi\u001b[0m \u001b[1;32min\u001b[0m \u001b[0mrange\u001b[0m\u001b[1;33m(\u001b[0m\u001b[0mlen\u001b[0m\u001b[1;33m(\u001b[0m\u001b[0mselectedPredictions\u001b[0m\u001b[1;33m)\u001b[0m\u001b[1;33m)\u001b[0m\u001b[1;33m:\u001b[0m\u001b[1;33m\u001b[0m\u001b[0m\n\u001b[0m\u001b[0;32m      6\u001b[0m     \u001b[1;32mif\u001b[0m\u001b[1;33m(\u001b[0m\u001b[0mselectedPredictions\u001b[0m\u001b[1;33m[\u001b[0m\u001b[0mi\u001b[0m\u001b[1;33m]\u001b[0m\u001b[1;33m)\u001b[0m\u001b[1;33m:\u001b[0m\u001b[1;33m\u001b[0m\u001b[0m\n\u001b[0;32m      7\u001b[0m         \u001b[1;32mif\u001b[0m\u001b[1;33m(\u001b[0m\u001b[0my_test\u001b[0m\u001b[1;33m[\u001b[0m\u001b[0mi\u001b[0m\u001b[1;33m]\u001b[0m\u001b[1;33m)\u001b[0m\u001b[1;33m:\u001b[0m\u001b[1;33m\u001b[0m\u001b[0m\n",
      "\u001b[1;31mNameError\u001b[0m: name 'selectedPredictions' is not defined"
     ]
    }
   ],
   "source": [
    "tp = 0\n",
    "fp = 0\n",
    "tn = 0\n",
    "fn = 0\n",
    "for i in range(len(selectedPredictions)):\n",
    "    if(selectedPredictions[i]):\n",
    "        if(y_test[i]):\n",
    "            tp += 1\n",
    "        else:\n",
    "            fp += 1\n",
    "    else:\n",
    "        if(y_test[i]):\n",
    "            fn += 1\n",
    "        else:\n",
    "            tn += 1\n",
    "print(\"true positives:\", tp)\n",
    "print(\"false positives:\", fp)\n",
    "print(\"true negatives:\", tn)\n",
    "print(\"false negatives:\", fn)\n",
    "if fp > 0:\n",
    "    print(\"true positive to false positive ratio:\",tp/fp)\n",
    "if fn > 0:\n",
    "    print(\"true negative to false negative ratio:\",tn/fn)\n",
    "print(\"Sensitivity:\",tp/(tp+fn))\n",
    "print(\"Specificity:\",tn/(tn+fp))\n",
    "print(\"Accuracy:\",(tp+tn)/(tp+tn+fp+fn))"
   ]
  },
  {
   "cell_type": "code",
   "execution_count": null,
   "metadata": {},
   "outputs": [],
   "source": []
  },
  {
   "cell_type": "markdown",
   "metadata": {},
   "source": [
    "## Code for another day (we aren't using now but might later) "
   ]
  },
  {
   "cell_type": "code",
   "execution_count": 9,
   "metadata": {
    "collapsed": true
   },
   "outputs": [],
   "source": [
    "selected = lasso\n",
    "selectedNames = lassoMotifNames\n",
    "\n",
    "selectedTree = tree.DecisionTreeClassifier()\n",
    "selectedData = [list(i) for i in zip(*selected)]\n",
    "x_train, x_test, y_train, y_test = train_test_split(selectedData, classes, test_size=0.33)\n",
    "selectedTree = selectedTree.fit(x_train, y_train)"
   ]
  },
  {
   "cell_type": "code",
   "execution_count": 10,
   "metadata": {},
   "outputs": [
    {
     "data": {
      "image/svg+xml": [
       "<svg height=\"373pt\" viewBox=\"0.00 0.00 699.50 373.00\" width=\"700pt\" xmlns=\"http://www.w3.org/2000/svg\" xmlns:xlink=\"http://www.w3.org/1999/xlink\">\n",
       "<g class=\"graph\" id=\"graph0\" transform=\"scale(1 1) rotate(0) translate(4 369)\">\n",
       "<title>Tree</title>\n",
       "<polygon fill=\"#ffffff\" points=\"-4,4 -4,-369 695.5,-369 695.5,4 -4,4\" stroke=\"transparent\"/>\n",
       "<!-- 0 -->\n",
       "<g class=\"node\" id=\"node1\">\n",
       "<title>0</title>\n",
       "<polygon fill=\"none\" points=\"450,-365 234,-365 234,-297 450,-297 450,-365\" stroke=\"#000000\"/>\n",
       "<text fill=\"#000000\" font-family=\"Times,serif\" font-size=\"14.00\" text-anchor=\"middle\" x=\"342\" y=\"-349.8\">gimme_143_MEME_4_w12 &lt;= 0.5</text>\n",
       "<text fill=\"#000000\" font-family=\"Times,serif\" font-size=\"14.00\" text-anchor=\"middle\" x=\"342\" y=\"-334.8\">gini = 0.079</text>\n",
       "<text fill=\"#000000\" font-family=\"Times,serif\" font-size=\"14.00\" text-anchor=\"middle\" x=\"342\" y=\"-319.8\">samples = 97</text>\n",
       "<text fill=\"#000000\" font-family=\"Times,serif\" font-size=\"14.00\" text-anchor=\"middle\" x=\"342\" y=\"-304.8\">value = [93, 4]</text>\n",
       "</g>\n",
       "<!-- 1 -->\n",
       "<g class=\"node\" id=\"node2\">\n",
       "<title>1</title>\n",
       "<polygon fill=\"none\" points=\"276.5,-261 105.5,-261 105.5,-193 276.5,-193 276.5,-261\" stroke=\"#000000\"/>\n",
       "<text fill=\"#000000\" font-family=\"Times,serif\" font-size=\"14.00\" text-anchor=\"middle\" x=\"191\" y=\"-245.8\">DME_GAAVGKAS &lt;= 0.5</text>\n",
       "<text fill=\"#000000\" font-family=\"Times,serif\" font-size=\"14.00\" text-anchor=\"middle\" x=\"191\" y=\"-230.8\">gini = 0.021</text>\n",
       "<text fill=\"#000000\" font-family=\"Times,serif\" font-size=\"14.00\" text-anchor=\"middle\" x=\"191\" y=\"-215.8\">samples = 93</text>\n",
       "<text fill=\"#000000\" font-family=\"Times,serif\" font-size=\"14.00\" text-anchor=\"middle\" x=\"191\" y=\"-200.8\">value = [92, 1]</text>\n",
       "</g>\n",
       "<!-- 0&#45;&gt;1 -->\n",
       "<g class=\"edge\" id=\"edge1\">\n",
       "<title>0-&gt;1</title>\n",
       "<path d=\"M292.557,-296.9465C278.6083,-287.3395 263.3071,-276.8009 248.9097,-266.8848\" fill=\"none\" stroke=\"#000000\"/>\n",
       "<polygon fill=\"#000000\" points=\"250.7751,-263.9198 240.5541,-261.13 246.8045,-269.6848 250.7751,-263.9198\" stroke=\"#000000\"/>\n",
       "<text fill=\"#000000\" font-family=\"Times,serif\" font-size=\"14.00\" text-anchor=\"middle\" x=\"245.0856\" y=\"-282.0159\">True</text>\n",
       "</g>\n",
       "<!-- 6 -->\n",
       "<g class=\"node\" id=\"node7\">\n",
       "<title>6</title>\n",
       "<polygon fill=\"none\" points=\"691.5,-261 294.5,-261 294.5,-193 691.5,-193 691.5,-261\" stroke=\"#000000\"/>\n",
       "<text fill=\"#000000\" font-family=\"Times,serif\" font-size=\"14.00\" text-anchor=\"middle\" x=\"493\" y=\"-245.8\">gimme_105_Improbizer_AACACACGTTTATTAGATGTTT &lt;= 0.5</text>\n",
       "<text fill=\"#000000\" font-family=\"Times,serif\" font-size=\"14.00\" text-anchor=\"middle\" x=\"493\" y=\"-230.8\">gini = 0.375</text>\n",
       "<text fill=\"#000000\" font-family=\"Times,serif\" font-size=\"14.00\" text-anchor=\"middle\" x=\"493\" y=\"-215.8\">samples = 4</text>\n",
       "<text fill=\"#000000\" font-family=\"Times,serif\" font-size=\"14.00\" text-anchor=\"middle\" x=\"493\" y=\"-200.8\">value = [1, 3]</text>\n",
       "</g>\n",
       "<!-- 0&#45;&gt;6 -->\n",
       "<g class=\"edge\" id=\"edge6\">\n",
       "<title>0-&gt;6</title>\n",
       "<path d=\"M391.443,-296.9465C405.3917,-287.3395 420.6929,-276.8009 435.0903,-266.8848\" fill=\"none\" stroke=\"#000000\"/>\n",
       "<polygon fill=\"#000000\" points=\"437.1955,-269.6848 443.4459,-261.13 433.2249,-263.9198 437.1955,-269.6848\" stroke=\"#000000\"/>\n",
       "<text fill=\"#000000\" font-family=\"Times,serif\" font-size=\"14.00\" text-anchor=\"middle\" x=\"438.9144\" y=\"-282.0159\">False</text>\n",
       "</g>\n",
       "<!-- 2 -->\n",
       "<g class=\"node\" id=\"node3\">\n",
       "<title>2</title>\n",
       "<polygon fill=\"none\" points=\"98,-149.5 0,-149.5 0,-96.5 98,-96.5 98,-149.5\" stroke=\"#000000\"/>\n",
       "<text fill=\"#000000\" font-family=\"Times,serif\" font-size=\"14.00\" text-anchor=\"middle\" x=\"49\" y=\"-134.3\">gini = 0.0</text>\n",
       "<text fill=\"#000000\" font-family=\"Times,serif\" font-size=\"14.00\" text-anchor=\"middle\" x=\"49\" y=\"-119.3\">samples = 91</text>\n",
       "<text fill=\"#000000\" font-family=\"Times,serif\" font-size=\"14.00\" text-anchor=\"middle\" x=\"49\" y=\"-104.3\">value = [91, 0]</text>\n",
       "</g>\n",
       "<!-- 1&#45;&gt;2 -->\n",
       "<g class=\"edge\" id=\"edge2\">\n",
       "<title>1-&gt;2</title>\n",
       "<path d=\"M144.5039,-192.9465C128.1107,-180.9403 109.7311,-167.4791 93.5064,-155.5962\" fill=\"none\" stroke=\"#000000\"/>\n",
       "<polygon fill=\"#000000\" points=\"95.376,-152.6272 85.2403,-149.5422 91.2399,-158.2746 95.376,-152.6272\" stroke=\"#000000\"/>\n",
       "</g>\n",
       "<!-- 3 -->\n",
       "<g class=\"node\" id=\"node4\">\n",
       "<title>3</title>\n",
       "<polygon fill=\"none\" points=\"332,-157 116,-157 116,-89 332,-89 332,-157\" stroke=\"#000000\"/>\n",
       "<text fill=\"#000000\" font-family=\"Times,serif\" font-size=\"14.00\" text-anchor=\"middle\" x=\"224\" y=\"-141.8\">gimme_156_MEME_7_w14 &lt;= 0.5</text>\n",
       "<text fill=\"#000000\" font-family=\"Times,serif\" font-size=\"14.00\" text-anchor=\"middle\" x=\"224\" y=\"-126.8\">gini = 0.5</text>\n",
       "<text fill=\"#000000\" font-family=\"Times,serif\" font-size=\"14.00\" text-anchor=\"middle\" x=\"224\" y=\"-111.8\">samples = 2</text>\n",
       "<text fill=\"#000000\" font-family=\"Times,serif\" font-size=\"14.00\" text-anchor=\"middle\" x=\"224\" y=\"-96.8\">value = [1, 1]</text>\n",
       "</g>\n",
       "<!-- 1&#45;&gt;3 -->\n",
       "<g class=\"edge\" id=\"edge3\">\n",
       "<title>1-&gt;3</title>\n",
       "<path d=\"M201.8054,-192.9465C204.455,-184.5965 207.3278,-175.5427 210.1001,-166.8056\" fill=\"none\" stroke=\"#000000\"/>\n",
       "<polygon fill=\"#000000\" points=\"213.4818,-167.7203 213.1703,-157.13 206.8097,-165.6031 213.4818,-167.7203\" stroke=\"#000000\"/>\n",
       "</g>\n",
       "<!-- 4 -->\n",
       "<g class=\"node\" id=\"node5\">\n",
       "<title>4</title>\n",
       "<polygon fill=\"none\" points=\"215,-53 123,-53 123,0 215,0 215,-53\" stroke=\"#000000\"/>\n",
       "<text fill=\"#000000\" font-family=\"Times,serif\" font-size=\"14.00\" text-anchor=\"middle\" x=\"169\" y=\"-37.8\">gini = 0.0</text>\n",
       "<text fill=\"#000000\" font-family=\"Times,serif\" font-size=\"14.00\" text-anchor=\"middle\" x=\"169\" y=\"-22.8\">samples = 1</text>\n",
       "<text fill=\"#000000\" font-family=\"Times,serif\" font-size=\"14.00\" text-anchor=\"middle\" x=\"169\" y=\"-7.8\">value = [1, 0]</text>\n",
       "</g>\n",
       "<!-- 3&#45;&gt;4 -->\n",
       "<g class=\"edge\" id=\"edge4\">\n",
       "<title>3-&gt;4</title>\n",
       "<path d=\"M204.6091,-88.9777C199.651,-80.2786 194.3067,-70.9018 189.3042,-62.1247\" fill=\"none\" stroke=\"#000000\"/>\n",
       "<polygon fill=\"#000000\" points=\"192.2378,-60.2033 184.2452,-53.2485 186.1562,-63.6696 192.2378,-60.2033\" stroke=\"#000000\"/>\n",
       "</g>\n",
       "<!-- 5 -->\n",
       "<g class=\"node\" id=\"node6\">\n",
       "<title>5</title>\n",
       "<polygon fill=\"none\" points=\"325,-53 233,-53 233,0 325,0 325,-53\" stroke=\"#000000\"/>\n",
       "<text fill=\"#000000\" font-family=\"Times,serif\" font-size=\"14.00\" text-anchor=\"middle\" x=\"279\" y=\"-37.8\">gini = 0.0</text>\n",
       "<text fill=\"#000000\" font-family=\"Times,serif\" font-size=\"14.00\" text-anchor=\"middle\" x=\"279\" y=\"-22.8\">samples = 1</text>\n",
       "<text fill=\"#000000\" font-family=\"Times,serif\" font-size=\"14.00\" text-anchor=\"middle\" x=\"279\" y=\"-7.8\">value = [0, 1]</text>\n",
       "</g>\n",
       "<!-- 3&#45;&gt;5 -->\n",
       "<g class=\"edge\" id=\"edge5\">\n",
       "<title>3-&gt;5</title>\n",
       "<path d=\"M243.3909,-88.9777C248.349,-80.2786 253.6933,-70.9018 258.6958,-62.1247\" fill=\"none\" stroke=\"#000000\"/>\n",
       "<polygon fill=\"#000000\" points=\"261.8438,-63.6696 263.7548,-53.2485 255.7622,-60.2033 261.8438,-63.6696\" stroke=\"#000000\"/>\n",
       "</g>\n",
       "<!-- 7 -->\n",
       "<g class=\"node\" id=\"node8\">\n",
       "<title>7</title>\n",
       "<polygon fill=\"none\" points=\"507,-149.5 415,-149.5 415,-96.5 507,-96.5 507,-149.5\" stroke=\"#000000\"/>\n",
       "<text fill=\"#000000\" font-family=\"Times,serif\" font-size=\"14.00\" text-anchor=\"middle\" x=\"461\" y=\"-134.3\">gini = 0.0</text>\n",
       "<text fill=\"#000000\" font-family=\"Times,serif\" font-size=\"14.00\" text-anchor=\"middle\" x=\"461\" y=\"-119.3\">samples = 1</text>\n",
       "<text fill=\"#000000\" font-family=\"Times,serif\" font-size=\"14.00\" text-anchor=\"middle\" x=\"461\" y=\"-104.3\">value = [1, 0]</text>\n",
       "</g>\n",
       "<!-- 6&#45;&gt;7 -->\n",
       "<g class=\"edge\" id=\"edge7\">\n",
       "<title>6-&gt;7</title>\n",
       "<path d=\"M482.522,-192.9465C479.2006,-182.1519 475.5173,-170.1813 472.1504,-159.2389\" fill=\"none\" stroke=\"#000000\"/>\n",
       "<polygon fill=\"#000000\" points=\"475.453,-158.0706 469.1668,-149.5422 468.7625,-160.1293 475.453,-158.0706\" stroke=\"#000000\"/>\n",
       "</g>\n",
       "<!-- 8 -->\n",
       "<g class=\"node\" id=\"node9\">\n",
       "<title>8</title>\n",
       "<polygon fill=\"none\" points=\"617,-149.5 525,-149.5 525,-96.5 617,-96.5 617,-149.5\" stroke=\"#000000\"/>\n",
       "<text fill=\"#000000\" font-family=\"Times,serif\" font-size=\"14.00\" text-anchor=\"middle\" x=\"571\" y=\"-134.3\">gini = 0.0</text>\n",
       "<text fill=\"#000000\" font-family=\"Times,serif\" font-size=\"14.00\" text-anchor=\"middle\" x=\"571\" y=\"-119.3\">samples = 3</text>\n",
       "<text fill=\"#000000\" font-family=\"Times,serif\" font-size=\"14.00\" text-anchor=\"middle\" x=\"571\" y=\"-104.3\">value = [0, 3]</text>\n",
       "</g>\n",
       "<!-- 6&#45;&gt;8 -->\n",
       "<g class=\"edge\" id=\"edge8\">\n",
       "<title>6-&gt;8</title>\n",
       "<path d=\"M518.5401,-192.9465C527.0491,-181.6012 536.5325,-168.9567 545.0707,-157.5724\" fill=\"none\" stroke=\"#000000\"/>\n",
       "<polygon fill=\"#000000\" points=\"547.8933,-159.6422 551.0934,-149.5422 542.2933,-155.4422 547.8933,-159.6422\" stroke=\"#000000\"/>\n",
       "</g>\n",
       "</g>\n",
       "</svg>"
      ],
      "text/plain": [
       "<IPython.core.display.SVG object>"
      ]
     },
     "execution_count": 10,
     "metadata": {},
     "output_type": "execute_result"
    }
   ],
   "source": [
    "selectedPredictions = selectedTree.predict(x_test)\n",
    "graph = Source( tree.export_graphviz(selectedTree, out_file=None, feature_names=selectedNames))\n",
    "SVG(graph.pipe(format='svg'))"
   ]
  },
  {
   "cell_type": "code",
   "execution_count": 11,
   "metadata": {},
   "outputs": [
    {
     "name": "stdout",
     "output_type": "stream",
     "text": [
      "[ 0.          0.01633253  0.06283913 ...,  0.          0.          0.        ]\n"
     ]
    }
   ],
   "source": [
    "from sklearn import linear_model\n",
    "clf = linear_model.Lasso(alpha=.001)\n",
    "clf.fit(rawData, classes)\n",
    "print(clf.coef_)"
   ]
  },
  {
   "cell_type": "code",
   "execution_count": null,
   "metadata": {},
   "outputs": [],
   "source": []
  },
  {
   "cell_type": "code",
   "execution_count": null,
   "metadata": {},
   "outputs": [],
   "source": []
  }
 ],
 "metadata": {
  "anaconda-cloud": {},
  "kernelspec": {
   "display_name": "Python 3",
   "language": "python",
   "name": "python3"
  },
  "language_info": {
   "codemirror_mode": {
    "name": "ipython",
    "version": 3
   },
   "file_extension": ".py",
   "mimetype": "text/x-python",
   "name": "python",
   "nbconvert_exporter": "python",
   "pygments_lexer": "ipython3",
   "version": "3.6.3"
  }
 },
 "nbformat": 4,
 "nbformat_minor": 2
}
