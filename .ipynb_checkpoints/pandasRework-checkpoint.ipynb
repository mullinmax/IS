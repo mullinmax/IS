{
 "cells": [
  {
   "cell_type": "code",
   "execution_count": null,
   "metadata": {},
   "outputs": [],
   "source": [
    "import csv\n",
    "import matplotlib.pyplot as plt\n",
    "from sklearn import tree\n",
    "from sklearn.model_selection import train_test_split\n",
    "from graphviz import Source # for drawing decision tree\n",
    "from IPython.display import SVG # for drawing decision tree\n",
    "import numpy as np\n",
    "import pandas\n",
    "\n",
    "rawData = pandas.read_csv(\"data/doubleStrandRaw.csv\", delimiter=',', skipinitialspace=True, warn_bad_lines=True, index_col=0) \n",
    "rawData = rawData.astype('bool') # convert to bools\n",
    "foreground = rawData.loc[rawData['class'] == True].drop('class', axis = 1) # split into forground and backgorund\n",
    "background = rawData.loc[rawData['class'] == False].drop('class', axis = 1)\n",
    "# print(foreground.loc[foreground[rawData.columns[2]] == True])\n",
    "# print(rawData)"
   ]
  },
  {
   "cell_type": "code",
   "execution_count": null,
   "metadata": {},
   "outputs": [],
   "source": [
    "import random\n",
    "\n",
    "posCounts = foreground.sum(axis=0) #produces list of sum of occurances in foregorund for each column\n",
    "negCounts = background.sum(axis=0)\n",
    "\n",
    "# plt.scatter(list(map(lambda x: x + random.random() -.5, posCounts)), list(map(lambda x: x + random.random() -.5, negCounts)))\n",
    "plt.scatter(posCounts, negCounts, alpha=0.3)\n",
    "# plt.scatter(list(map(lambda x: x + random.random() -.5, posCounts)), list(map(lambda x: x + random.random() -.5, negCounts)), alpha=0.3)\n",
    "plt.xlabel(\"Number of positive occurrences\")\n",
    "plt.ylabel(\"Number of negative occurrences\")\n",
    "plt.show()"
   ]
  },
  {
   "cell_type": "code",
   "execution_count": null,
   "metadata": {},
   "outputs": [],
   "source": [
    "n = len(foreground.columns)\n",
    "posCoOccur = [0 for x in range(n*n)]\n",
    "negCoOccur = [0 for x in range(n*n)]\n",
    "\n",
    "for row in foreground.as_matrix():\n",
    "    for first in range(n):\n",
    "        if row[first]:\n",
    "            for second in range(first+1,n):\n",
    "                if row[second]:\n",
    "                    posCoOccur[first*n+second] += 1                      \n",
    "\n",
    "for row in background.as_matrix():\n",
    "    for first in range(n):\n",
    "        if row[first]:\n",
    "            for second in range(first+1,n):\n",
    "                if row[second]:\n",
    "                    negCoOccur[first*n+second] += 1"
   ]
  },
  {
   "cell_type": "code",
   "execution_count": null,
   "metadata": {},
   "outputs": [],
   "source": [
    "import random\n",
    "# plt.scatter(list(map(lambda x: x + random.random() -.5, posCounts)), list(map(lambda x: x + random.random() -.5, negCounts)))\n",
    "# plt.scatter(posCoOccur, negCoOccur, alpha=0.2)\n",
    "plt.scatter(list(map(lambda x: x + random.random() -.5, posCoOccur)), list(map(lambda x: x + random.random() -.5, negCoOccur)), alpha=0.01)\n",
    "plt.xlabel(\"Number of positive co-occurrences\")\n",
    "plt.ylabel(\"Number of negative co-occurrences\")\n",
    "plt.show()"
   ]
  },
  {
   "cell_type": "code",
   "execution_count": null,
   "metadata": {},
   "outputs": [],
   "source": [
    "import math\n",
    "print(rawData.columns[math.floor(9999/len(rawData.columns))], \" and \", rawData.columns[9999%len(rawData.columns)]) # code for printing pairs of co-ocurring motifs"
   ]
  },
  {
   "cell_type": "code",
   "execution_count": null,
   "metadata": {},
   "outputs": [],
   "source": [
    "never = []\n",
    "neverMotifNames = []\n",
    "mixed = []\n",
    "mixedMotifNames = []\n",
    "right = []\n",
    "rightMotifNames = []\n",
    "bottom = []\n",
    "bottomMotifNames = []\n",
    "ratio = []\n",
    "ratioMotifNames = []\n",
    "lasso = []\n",
    "lassoMotifNames = []\n",
    "welchList = []\n",
    "welchListMotifNames = []\n",
    "\n",
    "posCounts = foreground.sum(axis=0) #produces list of sum of occurances in foregorund for each column\n",
    "print(max(posCounts))\n",
    "negCounts = background.sum(axis=0)\n",
    "for col in range(len(posCounts)):\n",
    "    if negCounts[col] == 0 and posCounts[col] == 0:\n",
    "        neverMotifNames.append(rawData.columns[col])\n",
    "    else:\n",
    "        if posCounts[col] >= max(posCounts) - 1:\n",
    "            rightMotifNames.append(rawData.columns[col])\n",
    "        if negCounts[col] < 3:\n",
    "            bottomMotifNames.append(rawData.columns[col])\n",
    "        if posCounts[col] > 0 and negCounts[col] > 0:\n",
    "            mixedMotifNames.append(rawData.columns[col])\n",
    "        if (posCounts[col] / max(posCounts)) / (1+negCounts[col]/max(negCounts)) > .5:\n",
    "            ratioMotifNames.append(rawData.columns[col])\n",
    "        if posCounts[col] >= 9 and negCounts[col] <= 60:\n",
    "            welchListMotifNames.append(rawData.columns[col])"
   ]
  },
  {
   "cell_type": "code",
   "execution_count": null,
   "metadata": {},
   "outputs": [],
   "source": [
    "# def metrics(motifNames):\n",
    "#     tp = 0\n",
    "#     fn = 0\n",
    "#     tn = 0\n",
    "#     fp = 0\n",
    "#     for motif in motifNames:\n",
    "#         for\n",
    "#         tp += foreground.loc[foreground[motif] == True].shape[0]\n",
    "#         fn += foreground.loc[foreground[motif] == False].shape[0]\n",
    "#         tn += background.loc[background[motif] == False].shape[0]\n",
    "#         fp += background.loc[background[motif] == True].shape[0]\n",
    "#     return tp,fn,tn,fp"
   ]
  },
  {
   "cell_type": "code",
   "execution_count": null,
   "metadata": {},
   "outputs": [],
   "source": [
    "# calculate and list metrics for all motifs with foreground >= 9 & background <= 20\n",
    "print('true positives|false positives|true negatives|false negatives|accuracy|Sensitivity|Specificity|True Positive + False Negative|motif name')\n",
    "\n",
    "selected = rightMotifNames\n",
    "netTP = 0\n",
    "netFP = 0\n",
    "netTN = 0\n",
    "netFN = 0\n",
    "for motif in selected:\n",
    "    tp = foreground.loc[foreground[motif] == True].shape[0]\n",
    "    fn = foreground.loc[foreground[motif] == False].shape[0]\n",
    "    tn = background.loc[background[motif] == False].shape[0]\n",
    "    fp = background.loc[background[motif] == True].shape[0]\n",
    "    netTP += tp\n",
    "    netFP += fp\n",
    "    netTN += tn\n",
    "    netFN += fn\n",
    "    if(tn+fp == 0):\n",
    "        print(tp,\"|\", fp,\"|\", tn,\"|\", fn,\"|\",(tp+tn)/(tp+tn+fp+fn),\"|\",tp/(tp+fn),\"|\", \" NA \",\"|\", tp+fn,\"|\",motif)\n",
    "    else:\n",
    "        print(tp,\"|\", fp,\"|\", tn,\"|\", fn,\"|\",(tp+tn)/(tp+tn+fp+fn),\"|\",tp/(tp+fn),\"|\",tn/(tn+fp),\"|\", tp+fn,\"|\",motif)\n",
    "\n",
    "print(\"AVERAGE / SUM METRICS:\")\n",
    "print('true positives|false positives|true negatives|false negatives|accuracy|Sensitivity|Specificity|True Positive + False Negative')\n",
    "if(netTN+netFP == 0):\n",
    "    print(netTP,\"|\", netFP,\"|\", netTN,\"|\", netFN,\"|\",(netTP+netTN)/(netTP+netTN+netFP+netFN),\"|\",netTP/(netTP+netFN),\"|\",\" NA \",\"|\", netTP+netFN)\n",
    "else:\n",
    "    print(netTP,\"|\", netFP,\"|\", netTN,\"|\", netFN,\"|\",(netTP+netTN)/(netTP+netTN+netFP+netFN),\"|\",netTP/(netTP+netFN),\"|\",netTN/(netTN+netFP),\"|\", netTP+netFN)"
   ]
  },
  {
   "cell_type": "code",
   "execution_count": null,
   "metadata": {},
   "outputs": [],
   "source": [
    "truePositives = foreground.sum(axis=0)\n",
    "falsePositives = background.sum(axis=0)\n",
    "\n",
    "accuracyHeatData = []\n",
    "sensitivityHeatData = []\n",
    "specificityHeatData = []\n",
    "for maxBackground in range(max(negCounts)):\n",
    "    accuracyHeatDataRow = []\n",
    "    sensitivityHeatDataRow = []\n",
    "    specificityHeatDataRow = []\n",
    "    for minForeground in range(max(posCounts)):\n",
    "        motifList = []\n",
    "        for motif in range(len(posCounts)):\n",
    "            if minForeground <= posCounts[motif] and maxBackground >= negCounts[motif]:\n",
    "                motifList.append(rawData.columns[motif]) #add name of motif\n",
    "        if len(motifList) > 0:\n",
    "            tp = 0\n",
    "            tn = 0\n",
    "            fp = 0\n",
    "            fn = 0\n",
    "            for motif in motifList:\n",
    "                tp += truePositives[motif]\n",
    "                fn += len(foreground) - truePositives[motif] # number of foreground - tp\n",
    "                fp += falsePositives[motif]\n",
    "                tn += len(background) - falsePositives[motif] # number of background - fp\n",
    "            accuracyHeatDataRow.append((tp+tn)/(tp+tn+fp+fn))\n",
    "            sensitivityHeatDataRow.append(tp/(tp+fn))\n",
    "            specificityHeatDataRow.append(tn/(tn+fp))\n",
    "        else:\n",
    "            accuracyHeatDataRow.append(0)\n",
    "            sensitivityHeatDataRow.append(0)\n",
    "            specificityHeatDataRow.append(0)\n",
    "    accuracyHeatData.append(accuracyHeatDataRow)\n",
    "    sensitivityHeatData.append(sensitivityHeatDataRow)\n",
    "    specificityHeatData.append(specificityHeatDataRow)"
   ]
  },
  {
   "cell_type": "code",
   "execution_count": null,
   "metadata": {},
   "outputs": [],
   "source": [
    "img = plt.imshow(np.array(accuracyHeatData),interpolation='nearest')\n",
    "\n",
    "plt.colorbar() # make a color bar\n",
    "plt.axis('auto')\n",
    "plt.gca().invert_yaxis()\n",
    "plt.title(\"Accuracy of majority vote with constraints x and y\")\n",
    "plt.xlabel(\"Minimum number of Positive occurrences\")\n",
    "plt.ylabel(\"Maximum number of negative occurrences\")\n",
    "plt.show()"
   ]
  },
  {
   "cell_type": "code",
   "execution_count": null,
   "metadata": {},
   "outputs": [],
   "source": [
    "img = plt.imshow(np.array(sensitivityHeatData),interpolation='nearest')\n",
    "\n",
    "plt.colorbar() # make a color bar\n",
    "plt.axis('auto')\n",
    "plt.gca().invert_yaxis()\n",
    "plt.title(\"sensitivity of majority vote with constraints x and y\")\n",
    "plt.xlabel(\"Minimum number of Positive occurrences\")\n",
    "plt.ylabel(\"Maximum number of negative occurrences\")\n",
    "plt.show()"
   ]
  },
  {
   "cell_type": "code",
   "execution_count": null,
   "metadata": {},
   "outputs": [],
   "source": [
    "img = plt.imshow(np.array(specificityHeatData),interpolation='nearest')\n",
    "\n",
    "plt.colorbar() # make a color bar\n",
    "plt.axis('auto')\n",
    "plt.gca().invert_yaxis()\n",
    "plt.title(\"specificity of majority vote with constraints x and y\")\n",
    "plt.xlabel(\"Minimum number of Positive occurrences\")\n",
    "plt.ylabel(\"Maximum number of negative occurrences\")\n",
    "plt.show()"
   ]
  },
  {
   "cell_type": "code",
   "execution_count": null,
   "metadata": {},
   "outputs": [],
   "source": [
    "n = len(rawData.columns)-1 # minus one for class column\n",
    "maxAccuracy = 0\n",
    "maxAccuracyPair = 0\n",
    "for pair in range(n**2):\n",
    "    left = rawData.columns[math.floor(pair/n)]\n",
    "    right = rawData.columns[pair%n]\n",
    "    CTLT = foreground.loc[foreground[left] == True]\n",
    "    CTLF = foreground.loc[foreground[left] == False]\n",
    "    CTLTRT = CTLT.loc[CTLT[right] == True].shape[0]\n",
    "#     CTLTRF = CTLT.loc[CTLT[right] == False].shape[0]\n",
    "#     CTLFRT = CTLF.loc[CTLF[right] == True].shape[0]\n",
    "    CTLFRF = CTLF.loc[CTLF[right] == False].shape[0]\n",
    "\n",
    "    CFLT = background.loc[background[left] == True]\n",
    "    CFLF = background.loc[background[left] == False]\n",
    "    CFLTRT = CFLT.loc[CFLT[right] == True].shape[0]\n",
    "#     CFLTRF = CFLT.loc[CFLT[right] == False].shape[0]\n",
    "#     CFLFRT = CFLF.loc[CFLF[right] == True].shape[0]\n",
    "    CFLFRF = CFLF.loc[CFLF[right] == False].shape[0]\n",
    "    if(maxAccuracy < (CTLTRT+CFLFRF)/len(rawData)):\n",
    "        maxAccuracy = (CTLTRT+CFLFRF)/len(rawData)\n",
    "        maxAccuracyPair = pair\n",
    "print(maxAccuracyPair, maxAccuracy)\n",
    "        "
   ]
  },
  {
   "cell_type": "code",
   "execution_count": 23,
   "metadata": {},
   "outputs": [
    {
     "name": "stdout",
     "output_type": "stream",
     "text": [
      "gimme_101_Improbizer_GTAGCTACGTTGGCTAA  and  DME_GAAGCCGAGGCAGAGC\n"
     ]
    }
   ],
   "source": [
    "import math\n",
    "print(rawData.columns[math.floor(9999/len(rawData.columns))], \" and \", rawData.columns[9999%len(rawData.columns)]) # code for printing pairs of co-ocurring motifs"
   ]
  },
  {
   "cell_type": "code",
   "execution_count": null,
   "metadata": {},
   "outputs": [],
   "source": []
  },
  {
   "cell_type": "code",
   "execution_count": null,
   "metadata": {},
   "outputs": [],
   "source": []
  },
  {
   "cell_type": "code",
   "execution_count": null,
   "metadata": {},
   "outputs": [],
   "source": []
  },
  {
   "cell_type": "code",
   "execution_count": null,
   "metadata": {},
   "outputs": [],
   "source": []
  }
 ],
 "metadata": {
  "kernelspec": {
   "display_name": "Python 3",
   "language": "python",
   "name": "python3"
  },
  "language_info": {
   "codemirror_mode": {
    "name": "ipython",
    "version": 3
   },
   "file_extension": ".py",
   "mimetype": "text/x-python",
   "name": "python",
   "nbconvert_exporter": "python",
   "pygments_lexer": "ipython3",
   "version": "3.6.3"
  }
 },
 "nbformat": 4,
 "nbformat_minor": 2
}
