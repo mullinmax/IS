{
 "cells": [
  {
   "cell_type": "markdown",
   "metadata": {},
   "source": [
    "# Feature selection for asdasd\n",
    "#### importing libraries and reading in data"
   ]
  },
  {
   "cell_type": "code",
   "execution_count": 8,
   "metadata": {},
   "outputs": [
    {
     "name": "stdout",
     "output_type": "stream",
     "text": [
      "146 , 3521\n"
     ]
    }
   ],
   "source": [
    "import csv\n",
    "rawData = []\n",
    "with open('data/raw.csv') as csvfile: \n",
    "    readCSV = csv.reader(csvfile, delimiter=',')\n",
    "    \n",
    "    for row in readCSV:\n",
    "        rawData.append(row)\n",
    "print (len(rawData),\",\", len(rawData[0]))"
   ]
  },
  {
   "cell_type": "markdown",
   "metadata": {},
   "source": [
    "#### Transpose data and convert to true / false for simpler code"
   ]
  },
  {
   "cell_type": "code",
   "execution_count": 11,
   "metadata": {},
   "outputs": [
    {
     "name": "stdout",
     "output_type": "stream",
     "text": [
      "3521 , 146\n"
     ]
    }
   ],
   "source": [
    "# convert to T/F\n",
    "for row in range(len(rawData)):\n",
    "        for cell in range(len(rawData[row])):\n",
    "            if(rawData[row][cell] == '0.0'):\n",
    "                rawData[row][cell] = False\n",
    "            elif(rawData[row][cell] == '1.0'):\n",
    "                rawData[row][cell] = True\n",
    "                \n",
    "# transpose\n",
    "tData = [list(i) for i in zip(*rawData)]\n",
    "\n",
    "print (len(tData),\",\", len(tData[0]))   "
   ]
  },
  {
   "cell_type": "markdown",
   "metadata": {},
   "source": [
    "#### Gather the positive, negative and mixed motifs"
   ]
  },
  {
   "cell_type": "code",
   "execution_count": 3,
   "metadata": {},
   "outputs": [],
   "source": [
    "motifCounts = [None] * len(tData)\n",
    "for(row in tData):\n",
    "    for(cell in range(len(row))):\n",
    "        if(tData[-1][cell])"
   ]
  },
  {
   "cell_type": "code",
   "execution_count": null,
   "metadata": {},
   "outputs": [],
   "source": []
  },
  {
   "cell_type": "code",
   "execution_count": null,
   "metadata": {},
   "outputs": [],
   "source": []
  }
 ],
 "metadata": {
  "kernelspec": {
   "display_name": "Python 3",
   "language": "python",
   "name": "python3"
  },
  "language_info": {
   "codemirror_mode": {
    "name": "ipython",
    "version": 3
   },
   "file_extension": ".py",
   "mimetype": "text/x-python",
   "name": "python",
   "nbconvert_exporter": "python",
   "pygments_lexer": "ipython3",
   "version": "3.6.4"
  }
 },
 "nbformat": 4,
 "nbformat_minor": 2
}
